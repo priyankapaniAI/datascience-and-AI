{
 "cells": [
  {
   "cell_type": "code",
   "execution_count": 1,
   "id": "a6abb663-ebcd-476d-993c-f8586a56c07f",
   "metadata": {},
   "outputs": [
    {
     "data": {
      "text/plain": [
       "5"
      ]
     },
     "execution_count": 1,
     "metadata": {},
     "output_type": "execute_result"
    }
   ],
   "source": [
    "v = 5  #variable declaration \n",
    "v"
   ]
  },
  {
   "cell_type": "code",
   "execution_count": 2,
   "id": "287cfb4c-aba9-48e1-9e39-61c1fe40cf39",
   "metadata": {},
   "outputs": [
    {
     "data": {
      "text/plain": [
       "140728920517176"
      ]
     },
     "execution_count": 2,
     "metadata": {},
     "output_type": "execute_result"
    }
   ],
   "source": [
    "id(v) # address of the memory location "
   ]
  },
  {
   "cell_type": "code",
   "execution_count": 3,
   "id": "0b7242a1-0cff-43a7-a2c8-34486c3abdf2",
   "metadata": {},
   "outputs": [
    {
     "ename": "SyntaxError",
     "evalue": "cannot assign to literal here. Maybe you meant '==' instead of '='? (237110408.py, line 1)",
     "output_type": "error",
     "traceback": [
      "\u001b[1;36m  Cell \u001b[1;32mIn[3], line 1\u001b[1;36m\u001b[0m\n\u001b[1;33m    5 = v\u001b[0m\n\u001b[1;37m    ^\u001b[0m\n\u001b[1;31mSyntaxError\u001b[0m\u001b[1;31m:\u001b[0m cannot assign to literal here. Maybe you meant '==' instead of '='?\n"
     ]
    }
   ],
   "source": [
    "5 = v"
   ]
  },
  {
   "cell_type": "code",
   "execution_count": 4,
   "id": "c731773d-fa37-4cdc-a0f5-cfe8c4d2ea28",
   "metadata": {},
   "outputs": [
    {
     "ename": "SyntaxError",
     "evalue": "invalid decimal literal (1833180177.py, line 1)",
     "output_type": "error",
     "traceback": [
      "\u001b[1;36m  Cell \u001b[1;32mIn[4], line 1\u001b[1;36m\u001b[0m\n\u001b[1;33m    1v = 9\u001b[0m\n\u001b[1;37m    ^\u001b[0m\n\u001b[1;31mSyntaxError\u001b[0m\u001b[1;31m:\u001b[0m invalid decimal literal\n"
     ]
    }
   ],
   "source": [
    "1v = 9 "
   ]
  },
  {
   "cell_type": "code",
   "execution_count": 5,
   "id": "f0bcebf6-0288-4008-b370-4155ecd97847",
   "metadata": {},
   "outputs": [
    {
     "data": {
      "text/plain": [
       "9"
      ]
     },
     "execution_count": 5,
     "metadata": {},
     "output_type": "execute_result"
    }
   ],
   "source": [
    "v1 = 9\n",
    "v1"
   ]
  },
  {
   "cell_type": "code",
   "execution_count": 6,
   "id": "895969d3-b5f4-4424-89b3-2285e42861f4",
   "metadata": {},
   "outputs": [
    {
     "ename": "NameError",
     "evalue": "name 'A2' is not defined",
     "output_type": "error",
     "traceback": [
      "\u001b[1;31m---------------------------------------------------------------------------\u001b[0m",
      "\u001b[1;31mNameError\u001b[0m                                 Traceback (most recent call last)",
      "Cell \u001b[1;32mIn[6], line 2\u001b[0m\n\u001b[0;32m      1\u001b[0m a2 \u001b[38;5;241m=\u001b[39m \u001b[38;5;241m10\u001b[39m\n\u001b[1;32m----> 2\u001b[0m A2\n",
      "\u001b[1;31mNameError\u001b[0m: name 'A2' is not defined"
     ]
    }
   ],
   "source": [
    "a2 = 10\n",
    "A2"
   ]
  },
  {
   "cell_type": "code",
   "execution_count": 7,
   "id": "bc9e719a-d46f-477b-8530-346a5866bec2",
   "metadata": {},
   "outputs": [
    {
     "data": {
      "text/plain": [
       "10"
      ]
     },
     "execution_count": 7,
     "metadata": {},
     "output_type": "execute_result"
    }
   ],
   "source": [
    "a2"
   ]
  },
  {
   "cell_type": "code",
   "execution_count": 8,
   "id": "f9de9b37-6917-4c75-a35f-50ed64d3824a",
   "metadata": {},
   "outputs": [
    {
     "ename": "SyntaxError",
     "evalue": "invalid syntax (3413766975.py, line 1)",
     "output_type": "error",
     "traceback": [
      "\u001b[1;36m  Cell \u001b[1;32mIn[8], line 1\u001b[1;36m\u001b[0m\n\u001b[1;33m    v@ = 78\u001b[0m\n\u001b[1;37m       ^\u001b[0m\n\u001b[1;31mSyntaxError\u001b[0m\u001b[1;31m:\u001b[0m invalid syntax\n"
     ]
    }
   ],
   "source": [
    "v@ = 78\n",
    "v@ "
   ]
  },
  {
   "cell_type": "code",
   "execution_count": 9,
   "id": "bd1108ae-d586-439c-a010-713edb576bd5",
   "metadata": {},
   "outputs": [
    {
     "ename": "SyntaxError",
     "evalue": "invalid syntax (2797271626.py, line 1)",
     "output_type": "error",
     "traceback": [
      "\u001b[1;36m  Cell \u001b[1;32mIn[9], line 1\u001b[1;36m\u001b[0m\n\u001b[1;33m    v* = 78\u001b[0m\n\u001b[1;37m       ^\u001b[0m\n\u001b[1;31mSyntaxError\u001b[0m\u001b[1;31m:\u001b[0m invalid syntax\n"
     ]
    }
   ],
   "source": [
    "v* = 78\n",
    "v* "
   ]
  },
  {
   "cell_type": "code",
   "execution_count": 10,
   "id": "1c4e7394-a88d-4da6-80cd-ceb1073c578c",
   "metadata": {},
   "outputs": [
    {
     "data": {
      "text/plain": [
       "10"
      ]
     },
     "execution_count": 10,
     "metadata": {},
     "output_type": "execute_result"
    }
   ],
   "source": [
    "v_ = 10\n",
    "v_"
   ]
  },
  {
   "cell_type": "code",
   "execution_count": 11,
   "id": "ecf350d7-5a6d-466c-88fb-0e049f2ebdad",
   "metadata": {},
   "outputs": [
    {
     "ename": "SyntaxError",
     "evalue": "invalid syntax (3475252196.py, line 1)",
     "output_type": "error",
     "traceback": [
      "\u001b[1;36m  Cell \u001b[1;32mIn[11], line 1\u001b[1;36m\u001b[0m\n\u001b[1;33m    if = 78\u001b[0m\n\u001b[1;37m       ^\u001b[0m\n\u001b[1;31mSyntaxError\u001b[0m\u001b[1;31m:\u001b[0m invalid syntax\n"
     ]
    }
   ],
   "source": [
    "if = 78"
   ]
  },
  {
   "cell_type": "code",
   "execution_count": 12,
   "id": "f0d30759-0913-4e33-9d0e-15be8f19d4a7",
   "metadata": {},
   "outputs": [
    {
     "ename": "SyntaxError",
     "evalue": "invalid syntax (2831858405.py, line 1)",
     "output_type": "error",
     "traceback": [
      "\u001b[1;36m  Cell \u001b[1;32mIn[12], line 1\u001b[1;36m\u001b[0m\n\u001b[1;33m    else = 80\u001b[0m\n\u001b[1;37m    ^\u001b[0m\n\u001b[1;31mSyntaxError\u001b[0m\u001b[1;31m:\u001b[0m invalid syntax\n"
     ]
    }
   ],
   "source": [
    "else = 80"
   ]
  },
  {
   "cell_type": "code",
   "execution_count": 13,
   "id": "a25324fe-c883-48b0-9aa7-75c4b0ebd68d",
   "metadata": {},
   "outputs": [
    {
     "ename": "SyntaxError",
     "evalue": "invalid syntax (198613559.py, line 1)",
     "output_type": "error",
     "traceback": [
      "\u001b[1;36m  Cell \u001b[1;32mIn[13], line 1\u001b[1;36m\u001b[0m\n\u001b[1;33m    for = 89\u001b[0m\n\u001b[1;37m        ^\u001b[0m\n\u001b[1;31mSyntaxError\u001b[0m\u001b[1;31m:\u001b[0m invalid syntax\n"
     ]
    }
   ],
   "source": [
    "for = 89"
   ]
  },
  {
   "cell_type": "code",
   "execution_count": 14,
   "id": "8d3b4f97-95e9-4b37-9b6c-f9edd7e1bcb4",
   "metadata": {},
   "outputs": [
    {
     "data": {
      "text/plain": [
       "['False',\n",
       " 'None',\n",
       " 'True',\n",
       " 'and',\n",
       " 'as',\n",
       " 'assert',\n",
       " 'async',\n",
       " 'await',\n",
       " 'break',\n",
       " 'class',\n",
       " 'continue',\n",
       " 'def',\n",
       " 'del',\n",
       " 'elif',\n",
       " 'else',\n",
       " 'except',\n",
       " 'finally',\n",
       " 'for',\n",
       " 'from',\n",
       " 'global',\n",
       " 'if',\n",
       " 'import',\n",
       " 'in',\n",
       " 'is',\n",
       " 'lambda',\n",
       " 'nonlocal',\n",
       " 'not',\n",
       " 'or',\n",
       " 'pass',\n",
       " 'raise',\n",
       " 'return',\n",
       " 'try',\n",
       " 'while',\n",
       " 'with',\n",
       " 'yield']"
      ]
     },
     "execution_count": 14,
     "metadata": {},
     "output_type": "execute_result"
    }
   ],
   "source": [
    "import keyword\n",
    "keyword.kwlist"
   ]
  },
  {
   "cell_type": "code",
   "execution_count": 15,
   "id": "da087bf4-738e-4636-af1b-4d68951362d7",
   "metadata": {},
   "outputs": [
    {
     "data": {
      "text/plain": [
       "35"
      ]
     },
     "execution_count": 15,
     "metadata": {},
     "output_type": "execute_result"
    }
   ],
   "source": [
    "len(keyword.kwlist)"
   ]
  },
  {
   "cell_type": "code",
   "execution_count": 16,
   "id": "765c6ab2-23ac-4dbe-9d1c-3d84f71eea69",
   "metadata": {},
   "outputs": [
    {
     "ename": "SyntaxError",
     "evalue": "invalid syntax (460896517.py, line 1)",
     "output_type": "error",
     "traceback": [
      "\u001b[1;36m  Cell \u001b[1;32mIn[16], line 1\u001b[1;36m\u001b[0m\n\u001b[1;33m    else = 6\u001b[0m\n\u001b[1;37m    ^\u001b[0m\n\u001b[1;31mSyntaxError\u001b[0m\u001b[1;31m:\u001b[0m invalid syntax\n"
     ]
    }
   ],
   "source": [
    "else = 6"
   ]
  },
  {
   "cell_type": "code",
   "execution_count": 17,
   "id": "1f11c375-49b4-4393-a92c-4d85cbf8e40a",
   "metadata": {},
   "outputs": [
    {
     "data": {
      "text/plain": [
       "6"
      ]
     },
     "execution_count": 17,
     "metadata": {},
     "output_type": "execute_result"
    }
   ],
   "source": [
    "ELSE = 6\n",
    "ELSE"
   ]
  },
  {
   "cell_type": "code",
   "execution_count": 18,
   "id": "ac3b72ce-eb08-49c4-aa7e-c6311514cc84",
   "metadata": {},
   "outputs": [
    {
     "ename": "SyntaxError",
     "evalue": "invalid syntax (1257806994.py, line 1)",
     "output_type": "error",
     "traceback": [
      "\u001b[1;36m  Cell \u001b[1;32mIn[18], line 1\u001b[1;36m\u001b[0m\n\u001b[1;33m    for = 78\u001b[0m\n\u001b[1;37m        ^\u001b[0m\n\u001b[1;31mSyntaxError\u001b[0m\u001b[1;31m:\u001b[0m invalid syntax\n"
     ]
    }
   ],
   "source": [
    "for = 78\n",
    "for"
   ]
  },
  {
   "cell_type": "code",
   "execution_count": 20,
   "id": "44896c23-1347-4b63-8e6f-2de8157296f8",
   "metadata": {},
   "outputs": [
    {
     "ename": "NameError",
     "evalue": "name 'FOR' is not defined",
     "output_type": "error",
     "traceback": [
      "\u001b[1;31m---------------------------------------------------------------------------\u001b[0m",
      "\u001b[1;31mNameError\u001b[0m                                 Traceback (most recent call last)",
      "Cell \u001b[1;32mIn[20], line 2\u001b[0m\n\u001b[0;32m      1\u001b[0m For \u001b[38;5;241m=\u001b[39m \u001b[38;5;241m90\u001b[39m\n\u001b[1;32m----> 2\u001b[0m FOR\n",
      "\u001b[1;31mNameError\u001b[0m: name 'FOR' is not defined"
     ]
    }
   ],
   "source": [
    "For = 90\n",
    "FOR"
   ]
  },
  {
   "cell_type": "code",
   "execution_count": 21,
   "id": "4c1255ca-5345-485b-8e27-a40a8af588af",
   "metadata": {},
   "outputs": [],
   "source": [
    "prefix = 'py'\n",
    "prefix = 'thon'"
   ]
  },
  {
   "cell_type": "code",
   "execution_count": 22,
   "id": "2eb93d63-e5a6-4b6e-9bca-1765e0c25024",
   "metadata": {},
   "outputs": [
    {
     "data": {
      "text/plain": [
       "'thon'"
      ]
     },
     "execution_count": 22,
     "metadata": {},
     "output_type": "execute_result"
    }
   ],
   "source": [
    "prefix"
   ]
  },
  {
   "cell_type": "code",
   "execution_count": 23,
   "id": "3eb071c5-b2de-413e-af83-30ec38c9a3fe",
   "metadata": {},
   "outputs": [
    {
     "data": {
      "text/plain": [
       "'python'"
      ]
     },
     "execution_count": 23,
     "metadata": {},
     "output_type": "execute_result"
    }
   ],
   "source": [
    "'py' + prefix"
   ]
  },
  {
   "cell_type": "markdown",
   "id": "b2b61c2a-eba7-443c-b9ce-779486f302ac",
   "metadata": {},
   "source": [
    "# 19th "
   ]
  },
  {
   "cell_type": "code",
   "execution_count": 24,
   "id": "e210bf85-77d2-4051-8213-b7c744560341",
   "metadata": {},
   "outputs": [
    {
     "data": {
      "text/plain": [
       "32"
      ]
     },
     "execution_count": 24,
     "metadata": {},
     "output_type": "execute_result"
    }
   ],
   "source": [
    "i = 32\n",
    "i"
   ]
  },
  {
   "cell_type": "code",
   "execution_count": 27,
   "id": "17b35222-1fd4-4555-8d78-e2e19d0a7489",
   "metadata": {},
   "outputs": [
    {
     "data": {
      "text/plain": [
       "int"
      ]
     },
     "execution_count": 27,
     "metadata": {},
     "output_type": "execute_result"
    }
   ],
   "source": [
    "type(i)"
   ]
  },
  {
   "cell_type": "code",
   "execution_count": 29,
   "id": "cca28076-4008-4df6-b29a-27984e27f49d",
   "metadata": {},
   "outputs": [
    {
     "data": {
      "text/plain": [
       "110.32"
      ]
     },
     "execution_count": 29,
     "metadata": {},
     "output_type": "execute_result"
    }
   ],
   "source": [
    "f = 110.32 \n",
    "f"
   ]
  },
  {
   "cell_type": "code",
   "execution_count": 30,
   "id": "95504b11-0b0d-46be-a1ca-00b26a7314bc",
   "metadata": {},
   "outputs": [
    {
     "data": {
      "text/plain": [
       "float"
      ]
     },
     "execution_count": 30,
     "metadata": {},
     "output_type": "execute_result"
    }
   ],
   "source": [
    "type(f)"
   ]
  },
  {
   "cell_type": "code",
   "execution_count": 31,
   "id": "42da120a-8090-4560-9e22-cb51d83d7fe5",
   "metadata": {},
   "outputs": [
    {
     "data": {
      "text/plain": [
       "1.0"
      ]
     },
     "execution_count": 31,
     "metadata": {},
     "output_type": "execute_result"
    }
   ],
   "source": [
    "f1 = 1e0\n",
    "f1"
   ]
  },
  {
   "cell_type": "code",
   "execution_count": 32,
   "id": "05578de0-39e2-4732-82e2-cd784648732b",
   "metadata": {},
   "outputs": [
    {
     "data": {
      "text/plain": [
       "10.0"
      ]
     },
     "execution_count": 32,
     "metadata": {},
     "output_type": "execute_result"
    }
   ],
   "source": [
    "f2 = 1e1\n",
    "f2"
   ]
  },
  {
   "cell_type": "code",
   "execution_count": 33,
   "id": "23cf29ed-ec81-4766-bfa4-4be3f45944a9",
   "metadata": {},
   "outputs": [
    {
     "data": {
      "text/plain": [
       "100.0"
      ]
     },
     "execution_count": 33,
     "metadata": {},
     "output_type": "execute_result"
    }
   ],
   "source": [
    "f3 = 1e2\n",
    "f3"
   ]
  },
  {
   "cell_type": "code",
   "execution_count": 34,
   "id": "9627ca3f-fdb4-43aa-be6d-f75e33ff49f5",
   "metadata": {},
   "outputs": [
    {
     "data": {
      "text/plain": [
       "1000.0"
      ]
     },
     "execution_count": 34,
     "metadata": {},
     "output_type": "execute_result"
    }
   ],
   "source": [
    "f4 = 1e3\n",
    "f4"
   ]
  },
  {
   "cell_type": "code",
   "execution_count": 35,
   "id": "ef7b8fc5-77b1-46de-b215-38e78829f9cb",
   "metadata": {},
   "outputs": [
    {
     "data": {
      "text/plain": [
       "1000.0"
      ]
     },
     "execution_count": 35,
     "metadata": {},
     "output_type": "execute_result"
    }
   ],
   "source": [
    "f5 = 1E3\n",
    "f5"
   ]
  },
  {
   "cell_type": "code",
   "execution_count": 36,
   "id": "018c5d10-fdd0-4158-8566-fb6685b88ed4",
   "metadata": {},
   "outputs": [],
   "source": [
    "a = 10 \n",
    "b = 20"
   ]
  },
  {
   "cell_type": "code",
   "execution_count": 42,
   "id": "eb6b4d85-4d4c-4875-a289-75b9e2548dce",
   "metadata": {},
   "outputs": [
    {
     "data": {
      "text/plain": [
       "0.5"
      ]
     },
     "execution_count": 42,
     "metadata": {},
     "output_type": "execute_result"
    }
   ],
   "source": [
    "a + b\n",
    "a - b\n",
    "a * b\n",
    "a / b"
   ]
  },
  {
   "cell_type": "code",
   "execution_count": 46,
   "id": "debc9045-e2f8-4e64-875c-a65669bdb065",
   "metadata": {},
   "outputs": [
    {
     "name": "stdout",
     "output_type": "stream",
     "text": [
      "30\n",
      "-10\n",
      "200\n",
      "0.5\n"
     ]
    }
   ],
   "source": [
    "print(a+b)\n",
    "print(a-b)\n",
    "print(a*b)\n",
    "print(a/b)"
   ]
  },
  {
   "cell_type": "code",
   "execution_count": 49,
   "id": "3d64dfc7-1199-4039-a4a8-39e2a4e58850",
   "metadata": {},
   "outputs": [
    {
     "name": "stdout",
     "output_type": "stream",
     "text": [
      "The addition of two number 20 and 30 is= 50\n"
     ]
    }
   ],
   "source": [
    "num1=20 \n",
    "num2=30\n",
    "add=num1+num2\n",
    "print('The addition of two number',num1,'and',num2,'is=',add)"
   ]
  },
  {
   "cell_type": "code",
   "execution_count": 50,
   "id": "52de6a34-7717-4f6c-85a2-b7db09f6209f",
   "metadata": {},
   "outputs": [
    {
     "name": "stdout",
     "output_type": "stream",
     "text": [
      "The addition of 20 and 30 is= 50\n"
     ]
    }
   ],
   "source": [
    "num1=20 \n",
    "num2=30\n",
    "add=num1+num2\n",
    "print('The addition of {} and {} is= {}'.format(num1,num2,add))"
   ]
  },
  {
   "cell_type": "code",
   "execution_count": 52,
   "id": "dc84df1e-cb9d-45b0-862d-98e688b5760f",
   "metadata": {},
   "outputs": [
    {
     "name": "stdout",
     "output_type": "stream",
     "text": [
      "The addition of 20 and 30 and 40 is= 90\n"
     ]
    }
   ],
   "source": [
    "num1=20 \n",
    "num2=30\n",
    "num3 = 40\n",
    "\n",
    "add=num1+num2+num3\n",
    "\n",
    "print('The addition of {} and {} and {} is= {}'.format(num1,num2,num3,add))"
   ]
  },
  {
   "cell_type": "code",
   "execution_count": 53,
   "id": "2b8a2812-da73-476d-9472-b7aad142187d",
   "metadata": {},
   "outputs": [
    {
     "data": {
      "text/plain": [
       "(1+2j)"
      ]
     },
     "execution_count": 53,
     "metadata": {},
     "output_type": "execute_result"
    }
   ],
   "source": [
    "c = 1 + 2j\n",
    "c"
   ]
  },
  {
   "cell_type": "code",
   "execution_count": 56,
   "id": "13b8ef9e-388a-47b6-a9b8-bb1585f9f5e1",
   "metadata": {},
   "outputs": [
    {
     "data": {
      "text/plain": [
       "complex"
      ]
     },
     "execution_count": 56,
     "metadata": {},
     "output_type": "execute_result"
    }
   ],
   "source": [
    "type(c)"
   ]
  },
  {
   "cell_type": "code",
   "execution_count": 57,
   "id": "f2a0175a-3695-4664-bf32-b542695c7be2",
   "metadata": {},
   "outputs": [
    {
     "data": {
      "text/plain": [
       "(1+2j)"
      ]
     },
     "execution_count": 57,
     "metadata": {},
     "output_type": "execute_result"
    }
   ],
   "source": [
    "c"
   ]
  },
  {
   "cell_type": "code",
   "execution_count": 58,
   "id": "ee2c4040-f583-459b-a919-cc5b201e8788",
   "metadata": {},
   "outputs": [
    {
     "data": {
      "text/plain": [
       "1.0"
      ]
     },
     "execution_count": 58,
     "metadata": {},
     "output_type": "execute_result"
    }
   ],
   "source": [
    "c.real"
   ]
  },
  {
   "cell_type": "code",
   "execution_count": 59,
   "id": "e7b2df37-1fbf-41e1-8b1e-3e53a2156cfa",
   "metadata": {},
   "outputs": [
    {
     "data": {
      "text/plain": [
       "2.0"
      ]
     },
     "execution_count": 59,
     "metadata": {},
     "output_type": "execute_result"
    }
   ],
   "source": [
    "c.imag"
   ]
  },
  {
   "cell_type": "code",
   "execution_count": 61,
   "id": "d46ab1fd-a690-4091-b345-8d624ea84024",
   "metadata": {},
   "outputs": [
    {
     "name": "stdout",
     "output_type": "stream",
     "text": [
      "(15+30j)\n",
      "(-5-10j)\n"
     ]
    }
   ],
   "source": [
    "c = 5 + 10j\n",
    "d = 10 + 20j\n",
    "\n",
    "print(c+d)\n",
    "print(c-d)"
   ]
  },
  {
   "cell_type": "code",
   "execution_count": 65,
   "id": "1c7f50fd-02ce-45e7-977b-4ae15489124b",
   "metadata": {},
   "outputs": [],
   "source": [
    "def team():\n",
    "    print('helo')"
   ]
  },
  {
   "cell_type": "code",
   "execution_count": 70,
   "id": "81c02c7d-2863-41b3-8d64-9348a952358b",
   "metadata": {},
   "outputs": [
    {
     "data": {
      "text/plain": [
       "(5+10j)"
      ]
     },
     "execution_count": 70,
     "metadata": {},
     "output_type": "execute_result"
    }
   ],
   "source": [
    "c2 = 5 + 10j\n",
    "c2"
   ]
  },
  {
   "cell_type": "code",
   "execution_count": 71,
   "id": "3969ec8f-71e8-4405-89d0-17b9074fcc45",
   "metadata": {},
   "outputs": [
    {
     "ename": "NameError",
     "evalue": "name 'true' is not defined",
     "output_type": "error",
     "traceback": [
      "\u001b[1;31m---------------------------------------------------------------------------\u001b[0m",
      "\u001b[1;31mNameError\u001b[0m                                 Traceback (most recent call last)",
      "Cell \u001b[1;32mIn[71], line 1\u001b[0m\n\u001b[1;32m----> 1\u001b[0m b \u001b[38;5;241m=\u001b[39m true\n\u001b[0;32m      2\u001b[0m b\n",
      "\u001b[1;31mNameError\u001b[0m: name 'true' is not defined"
     ]
    }
   ],
   "source": [
    "b = true\n",
    "b"
   ]
  },
  {
   "cell_type": "code",
   "execution_count": 73,
   "id": "e0f6407c-740c-4875-8e6c-aa1bedf17778",
   "metadata": {},
   "outputs": [
    {
     "data": {
      "text/plain": [
       "['False',\n",
       " 'None',\n",
       " 'True',\n",
       " 'and',\n",
       " 'as',\n",
       " 'assert',\n",
       " 'async',\n",
       " 'await',\n",
       " 'break',\n",
       " 'class',\n",
       " 'continue',\n",
       " 'def',\n",
       " 'del',\n",
       " 'elif',\n",
       " 'else',\n",
       " 'except',\n",
       " 'finally',\n",
       " 'for',\n",
       " 'from',\n",
       " 'global',\n",
       " 'if',\n",
       " 'import',\n",
       " 'in',\n",
       " 'is',\n",
       " 'lambda',\n",
       " 'nonlocal',\n",
       " 'not',\n",
       " 'or',\n",
       " 'pass',\n",
       " 'raise',\n",
       " 'return',\n",
       " 'try',\n",
       " 'while',\n",
       " 'with',\n",
       " 'yield']"
      ]
     },
     "execution_count": 73,
     "metadata": {},
     "output_type": "execute_result"
    }
   ],
   "source": [
    "import keyword\n",
    "keyword.kwlist"
   ]
  },
  {
   "cell_type": "code",
   "execution_count": 74,
   "id": "179b56e1-e7b7-46f4-a277-ac3ab42f5e9d",
   "metadata": {},
   "outputs": [
    {
     "data": {
      "text/plain": [
       "True"
      ]
     },
     "execution_count": 74,
     "metadata": {},
     "output_type": "execute_result"
    }
   ],
   "source": [
    "b = True\n",
    "b"
   ]
  },
  {
   "cell_type": "code",
   "execution_count": 77,
   "id": "7859d3d8-e202-4cdc-a3a0-9b11ed8a6f7f",
   "metadata": {},
   "outputs": [
    {
     "data": {
      "text/plain": [
       "False"
      ]
     },
     "execution_count": 77,
     "metadata": {},
     "output_type": "execute_result"
    }
   ],
   "source": [
    "b1 = False\n",
    "b1"
   ]
  },
  {
   "cell_type": "code",
   "execution_count": 78,
   "id": "8b1ce5a9-c9a4-4711-b2f9-d175446b18ee",
   "metadata": {},
   "outputs": [
    {
     "data": {
      "text/plain": [
       "1"
      ]
     },
     "execution_count": 78,
     "metadata": {},
     "output_type": "execute_result"
    }
   ],
   "source": [
    "int(True)"
   ]
  },
  {
   "cell_type": "code",
   "execution_count": 79,
   "id": "deb9395d-c6fb-443c-bdef-5e7995177bd0",
   "metadata": {},
   "outputs": [
    {
     "data": {
      "text/plain": [
       "0"
      ]
     },
     "execution_count": 79,
     "metadata": {},
     "output_type": "execute_result"
    }
   ],
   "source": [
    "int(False)"
   ]
  },
  {
   "cell_type": "code",
   "execution_count": 80,
   "id": "9862b7b9-9fa4-4db3-b7ef-fafb10ddb280",
   "metadata": {},
   "outputs": [
    {
     "data": {
      "text/plain": [
       "2"
      ]
     },
     "execution_count": 80,
     "metadata": {},
     "output_type": "execute_result"
    }
   ],
   "source": [
    "True + True "
   ]
  },
  {
   "cell_type": "code",
   "execution_count": 81,
   "id": "14d8df3f-3da6-4be2-b566-468841baf29d",
   "metadata": {},
   "outputs": [
    {
     "data": {
      "text/plain": [
       "1"
      ]
     },
     "execution_count": 81,
     "metadata": {},
     "output_type": "execute_result"
    }
   ],
   "source": [
    "True-False"
   ]
  },
  {
   "cell_type": "code",
   "execution_count": 82,
   "id": "f3935549-41dc-489c-9fcb-f84b545d9a39",
   "metadata": {},
   "outputs": [
    {
     "data": {
      "text/plain": [
       "-1"
      ]
     },
     "execution_count": 82,
     "metadata": {},
     "output_type": "execute_result"
    }
   ],
   "source": [
    "False-True"
   ]
  },
  {
   "cell_type": "code",
   "execution_count": 85,
   "id": "e7b98eb9-8f7d-44b0-80f6-f94c2eb29aaf",
   "metadata": {},
   "outputs": [
    {
     "data": {
      "text/plain": [
       "1"
      ]
     },
     "execution_count": 85,
     "metadata": {},
     "output_type": "execute_result"
    }
   ],
   "source": [
    "True-True*False+False"
   ]
  },
  {
   "cell_type": "code",
   "execution_count": null,
   "id": "c5bed1b8-4382-4b41-8763-3d1ce8d1e8e2",
   "metadata": {},
   "outputs": [],
   "source": [
    "p = 20\n",
    "q = 20\n",
    "r = 20"
   ]
  },
  {
   "cell_type": "code",
   "execution_count": 87,
   "id": "c324c094-2652-4cac-b002-9a04eb9be15f",
   "metadata": {},
   "outputs": [],
   "source": [
    "p = q = r = 20 "
   ]
  },
  {
   "cell_type": "code",
   "execution_count": 89,
   "id": "c6f62b0e-c728-42b3-82f3-3c0c59ad9fc2",
   "metadata": {},
   "outputs": [
    {
     "name": "stdout",
     "output_type": "stream",
     "text": [
      "140728920517656\n",
      "140728920517656\n",
      "140728920517656\n"
     ]
    }
   ],
   "source": [
    "print(id(p))\n",
    "print(id(q))\n",
    "print(id(r))"
   ]
  },
  {
   "cell_type": "code",
   "execution_count": 90,
   "id": "481ff1c2-5063-4cfc-9a6a-d08529bffec6",
   "metadata": {},
   "outputs": [],
   "source": [
    "p1,q1,r1 = 20, 25, 30"
   ]
  },
  {
   "cell_type": "code",
   "execution_count": 91,
   "id": "060f5dd4-da68-4ed6-9d8f-1642ff7b63b9",
   "metadata": {},
   "outputs": [
    {
     "name": "stdout",
     "output_type": "stream",
     "text": [
      "140728920517656\n",
      "140728920517816\n",
      "140728920517976\n"
     ]
    }
   ],
   "source": [
    "print(id(p1))\n",
    "print(id(q1))\n",
    "print(id(r1))"
   ]
  },
  {
   "cell_type": "markdown",
   "id": "89b22486-355b-42b9-a3c1-bd251784f0a3",
   "metadata": {},
   "source": [
    "# string "
   ]
  },
  {
   "cell_type": "code",
   "execution_count": 92,
   "id": "cacf8628-4b45-4fda-99db-e037a84849e8",
   "metadata": {},
   "outputs": [
    {
     "data": {
      "text/plain": [
       "'hello python'"
      ]
     },
     "execution_count": 92,
     "metadata": {},
     "output_type": "execute_result"
    }
   ],
   "source": [
    "s = 'hello python'\n",
    "s"
   ]
  },
  {
   "cell_type": "code",
   "execution_count": 94,
   "id": "5096ef83-3e12-42ee-9299-cb314d7929f7",
   "metadata": {},
   "outputs": [
    {
     "data": {
      "text/plain": [
       "12"
      ]
     },
     "execution_count": 94,
     "metadata": {},
     "output_type": "execute_result"
    }
   ],
   "source": [
    "len(s) "
   ]
  },
  {
   "cell_type": "code",
   "execution_count": 95,
   "id": "0b660523-7fe8-4af6-b405-7d159fb77133",
   "metadata": {},
   "outputs": [
    {
     "data": {
      "text/plain": [
       "'hello python'"
      ]
     },
     "execution_count": 95,
     "metadata": {},
     "output_type": "execute_result"
    }
   ],
   "source": [
    "s"
   ]
  },
  {
   "cell_type": "code",
   "execution_count": 97,
   "id": "67e20093-8718-49ff-acb5-05acb31405f1",
   "metadata": {},
   "outputs": [
    {
     "data": {
      "text/plain": [
       "'h'"
      ]
     },
     "execution_count": 97,
     "metadata": {},
     "output_type": "execute_result"
    }
   ],
   "source": [
    "s[0] #forward indexing "
   ]
  },
  {
   "cell_type": "code",
   "execution_count": 98,
   "id": "3101ad3a-38ff-41cc-9c19-cc0cbc2f4e77",
   "metadata": {},
   "outputs": [
    {
     "data": {
      "text/plain": [
       "'n'"
      ]
     },
     "execution_count": 98,
     "metadata": {},
     "output_type": "execute_result"
    }
   ],
   "source": [
    "s[-1] # backward indexing "
   ]
  },
  {
   "cell_type": "code",
   "execution_count": 101,
   "id": "cd2a2dab-9d18-4df9-ba79-6da5502aa92f",
   "metadata": {},
   "outputs": [
    {
     "data": {
      "text/plain": [
       "'hello python'"
      ]
     },
     "execution_count": 101,
     "metadata": {},
     "output_type": "execute_result"
    }
   ],
   "source": [
    "s"
   ]
  },
  {
   "cell_type": "code",
   "execution_count": 102,
   "id": "46f08444-f7cf-42c7-b818-fb642cd667bb",
   "metadata": {},
   "outputs": [
    {
     "ename": "IndexError",
     "evalue": "string index out of range",
     "output_type": "error",
     "traceback": [
      "\u001b[1;31m---------------------------------------------------------------------------\u001b[0m",
      "\u001b[1;31mIndexError\u001b[0m                                Traceback (most recent call last)",
      "Cell \u001b[1;32mIn[102], line 1\u001b[0m\n\u001b[1;32m----> 1\u001b[0m s[\u001b[38;5;241m13\u001b[39m]\n",
      "\u001b[1;31mIndexError\u001b[0m: string index out of range"
     ]
    }
   ],
   "source": [
    "s[13]"
   ]
  },
  {
   "cell_type": "code",
   "execution_count": 99,
   "id": "9c33739d-cbe4-4ed6-a37f-a106c16e5bd5",
   "metadata": {},
   "outputs": [
    {
     "data": {
      "text/plain": [
       "'hello python'"
      ]
     },
     "execution_count": 99,
     "metadata": {},
     "output_type": "execute_result"
    }
   ],
   "source": [
    "s"
   ]
  },
  {
   "cell_type": "code",
   "execution_count": 100,
   "id": "a0b32f30-9de7-465b-92d9-4f9bbc749062",
   "metadata": {},
   "outputs": [
    {
     "data": {
      "text/plain": [
       "'hello python'"
      ]
     },
     "execution_count": 100,
     "metadata": {},
     "output_type": "execute_result"
    }
   ],
   "source": [
    "s[:]"
   ]
  },
  {
   "cell_type": "code",
   "execution_count": 103,
   "id": "eae141ce-eb78-42aa-bd7e-d3928882be68",
   "metadata": {},
   "outputs": [
    {
     "data": {
      "text/plain": [
       "'hello'"
      ]
     },
     "execution_count": 103,
     "metadata": {},
     "output_type": "execute_result"
    }
   ],
   "source": [
    "s[0:5]"
   ]
  },
  {
   "cell_type": "code",
   "execution_count": 104,
   "id": "27c58725-7643-431c-a3dd-abfbf02c459f",
   "metadata": {},
   "outputs": [
    {
     "data": {
      "text/plain": [
       "'pyt'"
      ]
     },
     "execution_count": 104,
     "metadata": {},
     "output_type": "execute_result"
    }
   ],
   "source": [
    "s[6:9]"
   ]
  },
  {
   "cell_type": "code",
   "execution_count": 105,
   "id": "4c23c68d-d744-4ecb-9435-5a62ec94386f",
   "metadata": {},
   "outputs": [
    {
     "data": {
      "text/plain": [
       "'hello python'"
      ]
     },
     "execution_count": 105,
     "metadata": {},
     "output_type": "execute_result"
    }
   ],
   "source": [
    "s"
   ]
  },
  {
   "cell_type": "code",
   "execution_count": 106,
   "id": "82fcabd7-2aaf-424d-9870-ba8948f42f87",
   "metadata": {},
   "outputs": [
    {
     "data": {
      "text/plain": [
       "'ytho'"
      ]
     },
     "execution_count": 106,
     "metadata": {},
     "output_type": "execute_result"
    }
   ],
   "source": [
    "s[-5:-1]"
   ]
  },
  {
   "cell_type": "code",
   "execution_count": 107,
   "id": "57987234-01f8-4479-9fd7-abc1a1e01e17",
   "metadata": {},
   "outputs": [
    {
     "data": {
      "text/plain": [
       "'hello python'"
      ]
     },
     "execution_count": 107,
     "metadata": {},
     "output_type": "execute_result"
    }
   ],
   "source": [
    "s"
   ]
  },
  {
   "cell_type": "code",
   "execution_count": 108,
   "id": "e211d358-5372-41e9-960d-398f42baa0eb",
   "metadata": {},
   "outputs": [
    {
     "data": {
      "text/plain": [
       "'llo python'"
      ]
     },
     "execution_count": 108,
     "metadata": {},
     "output_type": "execute_result"
    }
   ],
   "source": [
    "s[2:]"
   ]
  },
  {
   "cell_type": "code",
   "execution_count": 109,
   "id": "4bc4165b-b2f3-4e81-aea6-8b18f27e2018",
   "metadata": {},
   "outputs": [
    {
     "data": {
      "text/plain": [
       "'hello python'"
      ]
     },
     "execution_count": 109,
     "metadata": {},
     "output_type": "execute_result"
    }
   ],
   "source": [
    "s"
   ]
  },
  {
   "cell_type": "code",
   "execution_count": 110,
   "id": "b3ad38db-7f30-4919-9ec5-61ace10aa7e9",
   "metadata": {},
   "outputs": [
    {
     "data": {
      "text/plain": [
       "'hello '"
      ]
     },
     "execution_count": 110,
     "metadata": {},
     "output_type": "execute_result"
    }
   ],
   "source": [
    "s[:6]"
   ]
  },
  {
   "cell_type": "code",
   "execution_count": 111,
   "id": "71a01cfa-14b1-4b3a-aded-9944dd4d9435",
   "metadata": {},
   "outputs": [
    {
     "data": {
      "text/plain": [
       "'hello python'"
      ]
     },
     "execution_count": 111,
     "metadata": {},
     "output_type": "execute_result"
    }
   ],
   "source": [
    "s"
   ]
  },
  {
   "cell_type": "code",
   "execution_count": 112,
   "id": "52522dc4-0daf-4537-83c4-2236bd107d8c",
   "metadata": {},
   "outputs": [
    {
     "data": {
      "text/plain": [
       "'nohtyp olleh'"
      ]
     },
     "execution_count": 112,
     "metadata": {},
     "output_type": "execute_result"
    }
   ],
   "source": [
    "s[::-1] "
   ]
  },
  {
   "cell_type": "code",
   "execution_count": 113,
   "id": "94dcb470-418b-4851-bf38-d4cf3326a2be",
   "metadata": {},
   "outputs": [
    {
     "data": {
      "text/plain": [
       "'hello python'"
      ]
     },
     "execution_count": 113,
     "metadata": {},
     "output_type": "execute_result"
    }
   ],
   "source": [
    "s"
   ]
  },
  {
   "cell_type": "code",
   "execution_count": 114,
   "id": "3df45087-5caf-424e-9c5d-4dec13c2ef2e",
   "metadata": {},
   "outputs": [
    {
     "data": {
      "text/plain": [
       "'hlph'"
      ]
     },
     "execution_count": 114,
     "metadata": {},
     "output_type": "execute_result"
    }
   ],
   "source": [
    "s[0:13:3]"
   ]
  },
  {
   "cell_type": "code",
   "execution_count": 115,
   "id": "0906c408-4335-43b0-a098-30f2c0bf80df",
   "metadata": {},
   "outputs": [
    {
     "data": {
      "text/plain": [
       "'hello python'"
      ]
     },
     "execution_count": 115,
     "metadata": {},
     "output_type": "execute_result"
    }
   ],
   "source": [
    "s"
   ]
  },
  {
   "cell_type": "code",
   "execution_count": 116,
   "id": "7a0cbaca-de46-4f30-b58d-4b8fe7b4bf61",
   "metadata": {},
   "outputs": [
    {
     "data": {
      "text/plain": [
       "'h '"
      ]
     },
     "execution_count": 116,
     "metadata": {},
     "output_type": "execute_result"
    }
   ],
   "source": [
    "s[0:10:5] "
   ]
  },
  {
   "cell_type": "code",
   "execution_count": 117,
   "id": "8f67a6bb-ee9d-456c-9405-48d70c47487d",
   "metadata": {},
   "outputs": [
    {
     "data": {
      "text/plain": [
       "'nareshit'"
      ]
     },
     "execution_count": 117,
     "metadata": {},
     "output_type": "execute_result"
    }
   ],
   "source": [
    "s1 = 'nareshit' \n",
    "s1"
   ]
  },
  {
   "cell_type": "code",
   "execution_count": null,
   "id": "4746a68f-c84a-4ee5-9e3d-f4a8cc616660",
   "metadata": {},
   "outputs": [],
   "source": [
    "s1[0:10]"
   ]
  },
  {
   "cell_type": "markdown",
   "id": "57b0de6e-dfb0-4f0c-bcc6-844a82ae60f3",
   "metadata": {},
   "source": [
    "# python data types we are completed\n",
    "# variable create we are completed"
   ]
  },
  {
   "cell_type": "markdown",
   "id": "003c0016-7252-40c8-a6b8-29720ff683c3",
   "metadata": {},
   "source": [
    "# python type casting or type conversion"
   ]
  },
  {
   "cell_type": "code",
   "execution_count": 1,
   "id": "392da4d7-803d-492f-a2ec-1bd9d54f37fb",
   "metadata": {},
   "outputs": [
    {
     "data": {
      "text/plain": [
       "2"
      ]
     },
     "execution_count": 1,
     "metadata": {},
     "output_type": "execute_result"
    }
   ],
   "source": [
    "int(2.3)"
   ]
  },
  {
   "cell_type": "code",
   "execution_count": 2,
   "id": "f0e7abfb-162d-48eb-a5d0-b2e30cae8a98",
   "metadata": {},
   "outputs": [
    {
     "ename": "TypeError",
     "evalue": "'float' object cannot be interpreted as an integer",
     "output_type": "error",
     "traceback": [
      "\u001b[1;31m---------------------------------------------------------------------------\u001b[0m",
      "\u001b[1;31mTypeError\u001b[0m                                 Traceback (most recent call last)",
      "Cell \u001b[1;32mIn[2], line 1\u001b[0m\n\u001b[1;32m----> 1\u001b[0m \u001b[38;5;28mint\u001b[39m(\u001b[38;5;241m2.3\u001b[39m, \u001b[38;5;241m4.5\u001b[39m)\n",
      "\u001b[1;31mTypeError\u001b[0m: 'float' object cannot be interpreted as an integer"
     ]
    }
   ],
   "source": [
    "int(2.3, 4.5)"
   ]
  },
  {
   "cell_type": "code",
   "execution_count": 3,
   "id": "7e6b1443-34c8-4e9e-afe2-cdaf1ff58dcc",
   "metadata": {},
   "outputs": [
    {
     "data": {
      "text/plain": [
       "1"
      ]
     },
     "execution_count": 3,
     "metadata": {},
     "output_type": "execute_result"
    }
   ],
   "source": [
    "int(True) "
   ]
  },
  {
   "cell_type": "code",
   "execution_count": 4,
   "id": "29f7add5-5e6d-4427-b738-630fb34539e5",
   "metadata": {},
   "outputs": [
    {
     "data": {
      "text/plain": [
       "0"
      ]
     },
     "execution_count": 4,
     "metadata": {},
     "output_type": "execute_result"
    }
   ],
   "source": [
    "int(False)"
   ]
  },
  {
   "cell_type": "code",
   "execution_count": 5,
   "id": "364cafe6-9c47-482b-b988-ac599f15d940",
   "metadata": {},
   "outputs": [
    {
     "ename": "TypeError",
     "evalue": "int() can't convert non-string with explicit base",
     "output_type": "error",
     "traceback": [
      "\u001b[1;31m---------------------------------------------------------------------------\u001b[0m",
      "\u001b[1;31mTypeError\u001b[0m                                 Traceback (most recent call last)",
      "Cell \u001b[1;32mIn[5], line 1\u001b[0m\n\u001b[1;32m----> 1\u001b[0m \u001b[38;5;28mint\u001b[39m(\u001b[38;5;28;01mTrue\u001b[39;00m,\u001b[38;5;28;01mFalse\u001b[39;00m)\n",
      "\u001b[1;31mTypeError\u001b[0m: int() can't convert non-string with explicit base"
     ]
    }
   ],
   "source": [
    "int(True,False)"
   ]
  },
  {
   "cell_type": "code",
   "execution_count": 6,
   "id": "5db4efd6-5a1b-43bd-af62-f36d698876c4",
   "metadata": {},
   "outputs": [
    {
     "ename": "NameError",
     "evalue": "name 'true' is not defined",
     "output_type": "error",
     "traceback": [
      "\u001b[1;31m---------------------------------------------------------------------------\u001b[0m",
      "\u001b[1;31mNameError\u001b[0m                                 Traceback (most recent call last)",
      "Cell \u001b[1;32mIn[6], line 1\u001b[0m\n\u001b[1;32m----> 1\u001b[0m \u001b[38;5;28mint\u001b[39m(true)\n",
      "\u001b[1;31mNameError\u001b[0m: name 'true' is not defined"
     ]
    }
   ],
   "source": [
    "int(true)"
   ]
  },
  {
   "cell_type": "code",
   "execution_count": 10,
   "id": "c58ca57b-0040-4763-86bc-992ef33e7dc4",
   "metadata": {},
   "outputs": [
    {
     "name": "stdout",
     "output_type": "stream",
     "text": [
      "2\n",
      "1\n",
      "10\n"
     ]
    }
   ],
   "source": [
    "print(int(2.3)) # float - int \n",
    "print(int(True)) # bool - int \n",
    "print(int('10')) # string - int "
   ]
  },
  {
   "cell_type": "code",
   "execution_count": 11,
   "id": "a37d3b86-c8fa-4740-a931-cde9e0948f05",
   "metadata": {},
   "outputs": [
    {
     "ename": "TypeError",
     "evalue": "int() argument must be a string, a bytes-like object or a real number, not 'complex'",
     "output_type": "error",
     "traceback": [
      "\u001b[1;31m---------------------------------------------------------------------------\u001b[0m",
      "\u001b[1;31mTypeError\u001b[0m                                 Traceback (most recent call last)",
      "Cell \u001b[1;32mIn[11], line 1\u001b[0m\n\u001b[1;32m----> 1\u001b[0m \u001b[38;5;28mprint\u001b[39m(\u001b[38;5;28mint\u001b[39m(\u001b[38;5;241m1\u001b[39m\u001b[38;5;241m+\u001b[39m\u001b[38;5;241m2\u001b[39mj))\n",
      "\u001b[1;31mTypeError\u001b[0m: int() argument must be a string, a bytes-like object or a real number, not 'complex'"
     ]
    }
   ],
   "source": [
    "print(int(1+2j)) # complex - int not possible "
   ]
  },
  {
   "cell_type": "code",
   "execution_count": 15,
   "id": "1310270a-3f83-457f-b66b-99633d5b6d10",
   "metadata": {},
   "outputs": [
    {
     "data": {
      "text/plain": [
       "1"
      ]
     },
     "execution_count": 15,
     "metadata": {},
     "output_type": "execute_result"
    }
   ],
   "source": [
    "int('1')"
   ]
  },
  {
   "cell_type": "code",
   "execution_count": 16,
   "id": "4b88568b-4c60-4f6e-82d5-dead06365c6f",
   "metadata": {},
   "outputs": [
    {
     "name": "stdout",
     "output_type": "stream",
     "text": [
      "2.0\n"
     ]
    }
   ],
   "source": [
    "print(float(2))"
   ]
  },
  {
   "cell_type": "code",
   "execution_count": 17,
   "id": "9f543b58-a5ce-4d21-b354-d3044776e4e9",
   "metadata": {},
   "outputs": [
    {
     "name": "stdout",
     "output_type": "stream",
     "text": [
      "0.0\n"
     ]
    }
   ],
   "source": [
    "print(float(False))"
   ]
  },
  {
   "cell_type": "code",
   "execution_count": 18,
   "id": "2ad731a8-9a17-4d7c-b4e2-db1b47f15258",
   "metadata": {},
   "outputs": [
    {
     "ename": "TypeError",
     "evalue": "float() argument must be a string or a real number, not 'complex'",
     "output_type": "error",
     "traceback": [
      "\u001b[1;31m---------------------------------------------------------------------------\u001b[0m",
      "\u001b[1;31mTypeError\u001b[0m                                 Traceback (most recent call last)",
      "Cell \u001b[1;32mIn[18], line 1\u001b[0m\n\u001b[1;32m----> 1\u001b[0m \u001b[38;5;28mprint\u001b[39m(\u001b[38;5;28mfloat\u001b[39m(\u001b[38;5;241m2\u001b[39m \u001b[38;5;241m+\u001b[39m \u001b[38;5;241m3\u001b[39mj))\n",
      "\u001b[1;31mTypeError\u001b[0m: float() argument must be a string or a real number, not 'complex'"
     ]
    }
   ],
   "source": [
    "print(float(2 + 3j))"
   ]
  },
  {
   "cell_type": "code",
   "execution_count": 19,
   "id": "f0bb2c93-f076-4cfe-bacf-65ed22030b8a",
   "metadata": {},
   "outputs": [
    {
     "ename": "ValueError",
     "evalue": "could not convert string to float: 'two'",
     "output_type": "error",
     "traceback": [
      "\u001b[1;31m---------------------------------------------------------------------------\u001b[0m",
      "\u001b[1;31mValueError\u001b[0m                                Traceback (most recent call last)",
      "Cell \u001b[1;32mIn[19], line 1\u001b[0m\n\u001b[1;32m----> 1\u001b[0m \u001b[38;5;28mprint\u001b[39m(\u001b[38;5;28mfloat\u001b[39m(\u001b[38;5;124m'\u001b[39m\u001b[38;5;124mtwo\u001b[39m\u001b[38;5;124m'\u001b[39m))\n",
      "\u001b[1;31mValueError\u001b[0m: could not convert string to float: 'two'"
     ]
    }
   ],
   "source": [
    "print(float('two'))"
   ]
  },
  {
   "cell_type": "code",
   "execution_count": 20,
   "id": "6e5fb033-ab64-43fe-807e-92371f0940ed",
   "metadata": {},
   "outputs": [
    {
     "name": "stdout",
     "output_type": "stream",
     "text": [
      "2.0\n"
     ]
    }
   ],
   "source": [
    "print(float('2'))"
   ]
  },
  {
   "cell_type": "code",
   "execution_count": 21,
   "id": "8bd9a06a-7154-46e0-ace4-849a99722ed2",
   "metadata": {},
   "outputs": [
    {
     "data": {
      "text/plain": [
       "(10+0j)"
      ]
     },
     "execution_count": 21,
     "metadata": {},
     "output_type": "execute_result"
    }
   ],
   "source": [
    "complex(10)"
   ]
  },
  {
   "cell_type": "code",
   "execution_count": 22,
   "id": "6741e7eb-65af-4ffa-9bfa-2a4efca96223",
   "metadata": {},
   "outputs": [
    {
     "data": {
      "text/plain": [
       "(10+20j)"
      ]
     },
     "execution_count": 22,
     "metadata": {},
     "output_type": "execute_result"
    }
   ],
   "source": [
    "complex(10,20)"
   ]
  },
  {
   "cell_type": "code",
   "execution_count": 23,
   "id": "999e5a44-e322-49cf-849a-f4ed85c0d80d",
   "metadata": {},
   "outputs": [
    {
     "ename": "TypeError",
     "evalue": "complex() takes at most 2 arguments (3 given)",
     "output_type": "error",
     "traceback": [
      "\u001b[1;31m---------------------------------------------------------------------------\u001b[0m",
      "\u001b[1;31mTypeError\u001b[0m                                 Traceback (most recent call last)",
      "Cell \u001b[1;32mIn[23], line 1\u001b[0m\n\u001b[1;32m----> 1\u001b[0m \u001b[38;5;28mcomplex\u001b[39m(\u001b[38;5;241m10\u001b[39m,\u001b[38;5;241m20\u001b[39m,\u001b[38;5;241m30\u001b[39m)\n",
      "\u001b[1;31mTypeError\u001b[0m: complex() takes at most 2 arguments (3 given)"
     ]
    }
   ],
   "source": [
    "complex(10,20,30)"
   ]
  },
  {
   "cell_type": "code",
   "execution_count": 24,
   "id": "a7b7ab0c-5693-4a71-a5f9-210433ed9483",
   "metadata": {},
   "outputs": [
    {
     "data": {
      "text/plain": [
       "(2.3+5.6j)"
      ]
     },
     "execution_count": 24,
     "metadata": {},
     "output_type": "execute_result"
    }
   ],
   "source": [
    "complex(2.3, 5.6)"
   ]
  },
  {
   "cell_type": "code",
   "execution_count": 25,
   "id": "6342b22b-9e01-4588-ba42-0cdd2b6dc177",
   "metadata": {},
   "outputs": [
    {
     "data": {
      "text/plain": [
       "(2.3+5j)"
      ]
     },
     "execution_count": 25,
     "metadata": {},
     "output_type": "execute_result"
    }
   ],
   "source": [
    "complex(2.3, 5)"
   ]
  },
  {
   "cell_type": "code",
   "execution_count": 26,
   "id": "779c0fe3-93c1-46be-8823-b1a2c71f36da",
   "metadata": {},
   "outputs": [
    {
     "data": {
      "text/plain": [
       "(5+2.3j)"
      ]
     },
     "execution_count": 26,
     "metadata": {},
     "output_type": "execute_result"
    }
   ],
   "source": [
    "complex(5, 2.3)"
   ]
  },
  {
   "cell_type": "code",
   "execution_count": 27,
   "id": "2e1a617e-44b1-44ee-a9ab-e5eab7058693",
   "metadata": {},
   "outputs": [
    {
     "data": {
      "text/plain": [
       "0j"
      ]
     },
     "execution_count": 27,
     "metadata": {},
     "output_type": "execute_result"
    }
   ],
   "source": [
    "complex(False, False) "
   ]
  },
  {
   "cell_type": "code",
   "execution_count": 28,
   "id": "806c9ce4-960a-4eac-ac3c-4ccc19bb09c7",
   "metadata": {},
   "outputs": [
    {
     "ename": "TypeError",
     "evalue": "complex() can't take second arg if first is a string",
     "output_type": "error",
     "traceback": [
      "\u001b[1;31m---------------------------------------------------------------------------\u001b[0m",
      "\u001b[1;31mTypeError\u001b[0m                                 Traceback (most recent call last)",
      "Cell \u001b[1;32mIn[28], line 1\u001b[0m\n\u001b[1;32m----> 1\u001b[0m \u001b[38;5;28mcomplex\u001b[39m(\u001b[38;5;124m'\u001b[39m\u001b[38;5;124m1\u001b[39m\u001b[38;5;124m'\u001b[39m, \u001b[38;5;241m23\u001b[39m)\n",
      "\u001b[1;31mTypeError\u001b[0m: complex() can't take second arg if first is a string"
     ]
    }
   ],
   "source": [
    "complex('1', 23)"
   ]
  },
  {
   "cell_type": "code",
   "execution_count": 30,
   "id": "14eefe33-eea5-4469-9930-b6d9065019c0",
   "metadata": {},
   "outputs": [
    {
     "ename": "TypeError",
     "evalue": "complex() can't take second arg if first is a string",
     "output_type": "error",
     "traceback": [
      "\u001b[1;31m---------------------------------------------------------------------------\u001b[0m",
      "\u001b[1;31mTypeError\u001b[0m                                 Traceback (most recent call last)",
      "Cell \u001b[1;32mIn[30], line 1\u001b[0m\n\u001b[1;32m----> 1\u001b[0m \u001b[38;5;28mcomplex\u001b[39m(\u001b[38;5;124m'\u001b[39m\u001b[38;5;124m1\u001b[39m\u001b[38;5;124m'\u001b[39m, \u001b[38;5;124m'\u001b[39m\u001b[38;5;124m23\u001b[39m\u001b[38;5;124m'\u001b[39m)\n",
      "\u001b[1;31mTypeError\u001b[0m: complex() can't take second arg if first is a string"
     ]
    }
   ],
   "source": [
    "complex('1', '23')"
   ]
  },
  {
   "cell_type": "code",
   "execution_count": 31,
   "id": "eb033ea0-3a90-4868-91c0-7ba2618ef871",
   "metadata": {},
   "outputs": [
    {
     "data": {
      "text/plain": [
       "(1+0j)"
      ]
     },
     "execution_count": 31,
     "metadata": {},
     "output_type": "execute_result"
    }
   ],
   "source": [
    "complex('1')"
   ]
  },
  {
   "cell_type": "code",
   "execution_count": 32,
   "id": "78535038-cfe9-451d-9e50-3601c46ae66d",
   "metadata": {},
   "outputs": [
    {
     "name": "stdout",
     "output_type": "stream",
     "text": [
      "True\n",
      "True\n",
      "True\n",
      "True\n"
     ]
    }
   ],
   "source": [
    "print(bool(1))\n",
    "print(bool(1.1))\n",
    "print(bool(1+2j))\n",
    "print(bool('nit'))"
   ]
  },
  {
   "cell_type": "code",
   "execution_count": 38,
   "id": "2779ab3f-78f0-4741-a683-054808c6ab92",
   "metadata": {},
   "outputs": [
    {
     "data": {
      "text/plain": [
       "False"
      ]
     },
     "execution_count": 38,
     "metadata": {},
     "output_type": "execute_result"
    }
   ],
   "source": [
    "bool( ) "
   ]
  },
  {
   "cell_type": "code",
   "execution_count": 39,
   "id": "b3827e41-2a2b-469e-8dd5-776cb023c988",
   "metadata": {},
   "outputs": [
    {
     "data": {
      "text/plain": [
       "'2'"
      ]
     },
     "execution_count": 39,
     "metadata": {},
     "output_type": "execute_result"
    }
   ],
   "source": [
    "str(2)"
   ]
  },
  {
   "cell_type": "code",
   "execution_count": 40,
   "id": "5f19cf0c-f59c-487c-bcf6-7de3a1148ed2",
   "metadata": {},
   "outputs": [
    {
     "data": {
      "text/plain": [
       "'2.2'"
      ]
     },
     "execution_count": 40,
     "metadata": {},
     "output_type": "execute_result"
    }
   ],
   "source": [
    "str(2.2)"
   ]
  },
  {
   "cell_type": "code",
   "execution_count": 41,
   "id": "6b928f46-e298-4c42-8de7-f3bba7793115",
   "metadata": {},
   "outputs": [
    {
     "data": {
      "text/plain": [
       "'True'"
      ]
     },
     "execution_count": 41,
     "metadata": {},
     "output_type": "execute_result"
    }
   ],
   "source": [
    "str(True)"
   ]
  },
  {
   "cell_type": "code",
   "execution_count": 42,
   "id": "e30473b9-f13e-44cd-8cea-72c1f02e5e6a",
   "metadata": {},
   "outputs": [
    {
     "data": {
      "text/plain": [
       "'(1+2j)'"
      ]
     },
     "execution_count": 42,
     "metadata": {},
     "output_type": "execute_result"
    }
   ],
   "source": [
    "str(1+2j)"
   ]
  },
  {
   "cell_type": "markdown",
   "id": "71cdfac5-2fe0-4cfa-8906-d8a12c89b182",
   "metadata": {},
   "source": [
    "# python type casting "
   ]
  },
  {
   "cell_type": "code",
   "execution_count": 45,
   "id": "f15f5b8c-81de-4d4f-aa45-857e4d77cb1a",
   "metadata": {},
   "outputs": [
    {
     "data": {
      "text/plain": [
       "float"
      ]
     },
     "execution_count": 45,
     "metadata": {},
     "output_type": "execute_result"
    }
   ],
   "source": [
    "a = 7.7\n",
    "type(a)"
   ]
  },
  {
   "cell_type": "markdown",
   "id": "770ead39-cbbd-47ae-941b-7913c2e2b8f7",
   "metadata": {},
   "source": [
    "# list datastructure "
   ]
  },
  {
   "cell_type": "code",
   "execution_count": 1,
   "id": "6a7ed316-c3c7-43cb-83b7-b68e087a05f5",
   "metadata": {},
   "outputs": [
    {
     "data": {
      "text/plain": [
       "[]"
      ]
     },
     "execution_count": 1,
     "metadata": {},
     "output_type": "execute_result"
    }
   ],
   "source": [
    "l = [] \n",
    "l"
   ]
  },
  {
   "cell_type": "code",
   "execution_count": 48,
   "id": "a1c34319-87a7-44ca-95b9-a4c3ccbf505a",
   "metadata": {},
   "outputs": [
    {
     "data": {
      "text/plain": [
       "list"
      ]
     },
     "execution_count": 48,
     "metadata": {},
     "output_type": "execute_result"
    }
   ],
   "source": [
    "type(l)"
   ]
  },
  {
   "cell_type": "code",
   "execution_count": 47,
   "id": "644bca11-2585-453d-bb8c-cee8cbb80263",
   "metadata": {},
   "outputs": [
    {
     "name": "stdout",
     "output_type": "stream",
     "text": [
      "<class 'list'>\n"
     ]
    }
   ],
   "source": [
    "print(type(l))"
   ]
  },
  {
   "cell_type": "code",
   "execution_count": 49,
   "id": "61fbc7bc-91d0-4e94-b1a9-96f575f4ef6d",
   "metadata": {},
   "outputs": [
    {
     "data": {
      "text/plain": [
       "0"
      ]
     },
     "execution_count": 49,
     "metadata": {},
     "output_type": "execute_result"
    }
   ],
   "source": [
    "len(l)"
   ]
  },
  {
   "cell_type": "code",
   "execution_count": 4,
   "id": "e823cb47-16d4-4a3d-830f-3a05e6cc3e9f",
   "metadata": {},
   "outputs": [],
   "source": [
    "l.append(10)"
   ]
  },
  {
   "cell_type": "code",
   "execution_count": 5,
   "id": "e20927c9-9837-4ee4-9e2a-c73a9b87aa5c",
   "metadata": {},
   "outputs": [
    {
     "data": {
      "text/plain": [
       "[10, 10]"
      ]
     },
     "execution_count": 5,
     "metadata": {},
     "output_type": "execute_result"
    }
   ],
   "source": [
    "l"
   ]
  },
  {
   "cell_type": "code",
   "execution_count": 6,
   "id": "0a11670e-76e5-4351-83d0-a334a74a3c7b",
   "metadata": {},
   "outputs": [],
   "source": [
    "l.append(20)\n",
    "l.append(30)\n",
    "l.append(40)\n",
    "l.append(50)"
   ]
  },
  {
   "cell_type": "code",
   "execution_count": 7,
   "id": "0b68b448-d92e-410a-b5ac-8481c8091527",
   "metadata": {},
   "outputs": [
    {
     "data": {
      "text/plain": [
       "[10, 10, 20, 30, 40, 50]"
      ]
     },
     "execution_count": 7,
     "metadata": {},
     "output_type": "execute_result"
    }
   ],
   "source": [
    "l"
   ]
  },
  {
   "cell_type": "code",
   "execution_count": 8,
   "id": "1d0b7c21-1546-4e4e-b878-615f9336a6c2",
   "metadata": {},
   "outputs": [
    {
     "data": {
      "text/plain": [
       "6"
      ]
     },
     "execution_count": 8,
     "metadata": {},
     "output_type": "execute_result"
    }
   ],
   "source": [
    "len(l)"
   ]
  },
  {
   "cell_type": "code",
   "execution_count": 9,
   "id": "f0ceb0ab-b692-4b3a-a9c7-58db6f6e7ba9",
   "metadata": {},
   "outputs": [
    {
     "ename": "TypeError",
     "evalue": "list.append() takes exactly one argument (2 given)",
     "output_type": "error",
     "traceback": [
      "\u001b[1;31m---------------------------------------------------------------------------\u001b[0m",
      "\u001b[1;31mTypeError\u001b[0m                                 Traceback (most recent call last)",
      "Cell \u001b[1;32mIn[9], line 1\u001b[0m\n\u001b[1;32m----> 1\u001b[0m l\u001b[38;5;241m.\u001b[39mappend(\u001b[38;5;241m10\u001b[39m,\u001b[38;5;241m20\u001b[39m)\n",
      "\u001b[1;31mTypeError\u001b[0m: list.append() takes exactly one argument (2 given)"
     ]
    }
   ],
   "source": [
    "l.append(10,20)  "
   ]
  },
  {
   "cell_type": "code",
   "execution_count": null,
   "id": "9696b5ab-971b-4be9-bb31-1c411f39fe2b",
   "metadata": {},
   "outputs": [],
   "source": [
    "l"
   ]
  },
  {
   "cell_type": "code",
   "execution_count": null,
   "id": "6ae2223f-910f-42c7-8e06-5e1128b3da1f",
   "metadata": {},
   "outputs": [],
   "source": [
    "l.append(10)"
   ]
  },
  {
   "cell_type": "code",
   "execution_count": 10,
   "id": "6732e191-418a-4043-a089-2e4d79df2aa8",
   "metadata": {},
   "outputs": [
    {
     "data": {
      "text/plain": [
       "[10, 10, 20, 30, 40, 50]"
      ]
     },
     "execution_count": 10,
     "metadata": {},
     "output_type": "execute_result"
    }
   ],
   "source": [
    "l"
   ]
  },
  {
   "cell_type": "code",
   "execution_count": 11,
   "id": "8d27be63-ef44-4b9d-8216-1cafab5ff542",
   "metadata": {},
   "outputs": [
    {
     "data": {
      "text/plain": [
       "[10, 10, 20, 30, 40, 50]"
      ]
     },
     "execution_count": 11,
     "metadata": {},
     "output_type": "execute_result"
    }
   ],
   "source": [
    "l"
   ]
  },
  {
   "cell_type": "code",
   "execution_count": 12,
   "id": "9ad7aa1f-7eac-4ddf-8d7c-dc144a454819",
   "metadata": {},
   "outputs": [
    {
     "data": {
      "text/plain": [
       "10"
      ]
     },
     "execution_count": 12,
     "metadata": {},
     "output_type": "execute_result"
    }
   ],
   "source": [
    "l[0]"
   ]
  },
  {
   "cell_type": "code",
   "execution_count": 13,
   "id": "69150a51-f25f-4aca-8c7e-8502f2f5975d",
   "metadata": {},
   "outputs": [],
   "source": [
    "l[0] = 100 "
   ]
  },
  {
   "cell_type": "code",
   "execution_count": 14,
   "id": "90ad3b34-e67e-4528-88d0-8a7ddff1ad08",
   "metadata": {},
   "outputs": [
    {
     "data": {
      "text/plain": [
       "[100, 10, 20, 30, 40, 50]"
      ]
     },
     "execution_count": 14,
     "metadata": {},
     "output_type": "execute_result"
    }
   ],
   "source": [
    "l"
   ]
  },
  {
   "cell_type": "code",
   "execution_count": 15,
   "id": "e8281838-2611-4128-97f7-e4812a28fccb",
   "metadata": {},
   "outputs": [],
   "source": [
    "l[-1] = -50"
   ]
  },
  {
   "cell_type": "code",
   "execution_count": 17,
   "id": "8cd70ea2-9e98-41dc-bdbc-b2123e0d4005",
   "metadata": {},
   "outputs": [
    {
     "data": {
      "text/plain": [
       "[100, 10, 20, 30, 40, -50]"
      ]
     },
     "execution_count": 17,
     "metadata": {},
     "output_type": "execute_result"
    }
   ],
   "source": [
    "l"
   ]
  },
  {
   "cell_type": "code",
   "execution_count": 18,
   "id": "7cbc14f2-6696-4641-a4aa-25c86120671f",
   "metadata": {},
   "outputs": [],
   "source": [
    "l1 = l.copy()"
   ]
  },
  {
   "cell_type": "code",
   "execution_count": 19,
   "id": "93acf276-998d-4f28-9d8d-d6e6b617f368",
   "metadata": {},
   "outputs": [
    {
     "data": {
      "text/plain": [
       "[100, 10, 20, 30, 40, -50]"
      ]
     },
     "execution_count": 19,
     "metadata": {},
     "output_type": "execute_result"
    }
   ],
   "source": [
    "l1"
   ]
  },
  {
   "cell_type": "code",
   "execution_count": 20,
   "id": "9b0553de-793b-418f-9d99-618a73aae8bd",
   "metadata": {},
   "outputs": [
    {
     "name": "stdout",
     "output_type": "stream",
     "text": [
      "[100, 10, 20, 30, 40, -50]\n",
      "[100, 10, 20, 30, 40, -50]\n"
     ]
    }
   ],
   "source": [
    "print(l)\n",
    "print(l1)"
   ]
  },
  {
   "cell_type": "code",
   "execution_count": 21,
   "id": "4f1b0955-115d-4234-8d09-198865da77be",
   "metadata": {},
   "outputs": [
    {
     "data": {
      "text/plain": [
       "True"
      ]
     },
     "execution_count": 21,
     "metadata": {},
     "output_type": "execute_result"
    }
   ],
   "source": [
    "l == l1"
   ]
  },
  {
   "cell_type": "code",
   "execution_count": 22,
   "id": "88352ac6-8327-4115-abaf-5176f09467d6",
   "metadata": {},
   "outputs": [
    {
     "data": {
      "text/plain": [
       "False"
      ]
     },
     "execution_count": 22,
     "metadata": {},
     "output_type": "execute_result"
    }
   ],
   "source": [
    "id(l) == id(l1)"
   ]
  },
  {
   "cell_type": "code",
   "execution_count": 23,
   "id": "9a23f3d4-3649-4800-9af3-53e5cfe41758",
   "metadata": {},
   "outputs": [
    {
     "data": {
      "text/plain": [
       "True"
      ]
     },
     "execution_count": 23,
     "metadata": {},
     "output_type": "execute_result"
    }
   ],
   "source": [
    "id(l) != id(l1)"
   ]
  },
  {
   "cell_type": "code",
   "execution_count": 24,
   "id": "db61dabf-f4c7-4714-ae1c-f053295c9f7e",
   "metadata": {},
   "outputs": [
    {
     "data": {
      "text/plain": [
       "[100, 10, 20, 30, 40, -50]"
      ]
     },
     "execution_count": 24,
     "metadata": {},
     "output_type": "execute_result"
    }
   ],
   "source": [
    "l"
   ]
  },
  {
   "cell_type": "code",
   "execution_count": 25,
   "id": "8156985a-6507-4b29-a049-4d375e6b53bd",
   "metadata": {},
   "outputs": [
    {
     "data": {
      "text/plain": [
       "1"
      ]
     },
     "execution_count": 25,
     "metadata": {},
     "output_type": "execute_result"
    }
   ],
   "source": [
    "l.count(20) "
   ]
  },
  {
   "cell_type": "code",
   "execution_count": 26,
   "id": "291abd63-6c28-479d-b7a5-36d15a7b0d8e",
   "metadata": {},
   "outputs": [],
   "source": [
    "l.append(20)"
   ]
  },
  {
   "cell_type": "code",
   "execution_count": 27,
   "id": "d0bf493b-f3c6-4eb4-a50c-f9909e4e7fbf",
   "metadata": {},
   "outputs": [
    {
     "data": {
      "text/plain": [
       "[100, 10, 20, 30, 40, -50, 20]"
      ]
     },
     "execution_count": 27,
     "metadata": {},
     "output_type": "execute_result"
    }
   ],
   "source": [
    "l"
   ]
  },
  {
   "cell_type": "code",
   "execution_count": 28,
   "id": "e396bd64-a12c-4d68-aae8-510d1b699178",
   "metadata": {},
   "outputs": [
    {
     "data": {
      "text/plain": [
       "2"
      ]
     },
     "execution_count": 28,
     "metadata": {},
     "output_type": "execute_result"
    }
   ],
   "source": [
    "l.count(20) "
   ]
  },
  {
   "cell_type": "code",
   "execution_count": 29,
   "id": "cd113134-7121-42d1-8917-e09c8c8b562c",
   "metadata": {},
   "outputs": [
    {
     "data": {
      "text/plain": [
       "[100, 10, 20, 30, 40, -50]"
      ]
     },
     "execution_count": 29,
     "metadata": {},
     "output_type": "execute_result"
    }
   ],
   "source": [
    "l1"
   ]
  },
  {
   "cell_type": "code",
   "execution_count": 30,
   "id": "3c367412-fc7f-429e-9694-0654da5caaa5",
   "metadata": {},
   "outputs": [
    {
     "data": {
      "text/plain": [
       "6"
      ]
     },
     "execution_count": 30,
     "metadata": {},
     "output_type": "execute_result"
    }
   ],
   "source": [
    "len(l1) "
   ]
  },
  {
   "cell_type": "code",
   "execution_count": 31,
   "id": "df6586f3-441b-4a52-b07b-ddfb640fd7cf",
   "metadata": {},
   "outputs": [
    {
     "data": {
      "text/plain": [
       "[100, 10, 20, 30, 40, -50]"
      ]
     },
     "execution_count": 31,
     "metadata": {},
     "output_type": "execute_result"
    }
   ],
   "source": [
    "l1"
   ]
  },
  {
   "cell_type": "code",
   "execution_count": 32,
   "id": "34bdb572-223a-4c9d-8cae-bf9fa1c35f79",
   "metadata": {},
   "outputs": [],
   "source": [
    "l1.clear()"
   ]
  },
  {
   "cell_type": "code",
   "execution_count": 33,
   "id": "13be69c6-70d9-4fbb-8b07-24a37a385b16",
   "metadata": {},
   "outputs": [
    {
     "data": {
      "text/plain": [
       "[]"
      ]
     },
     "execution_count": 33,
     "metadata": {},
     "output_type": "execute_result"
    }
   ],
   "source": [
    "l1"
   ]
  },
  {
   "cell_type": "code",
   "execution_count": 34,
   "id": "d64377a4-b221-48a6-892e-65616690d50d",
   "metadata": {},
   "outputs": [],
   "source": [
    "del l1"
   ]
  },
  {
   "cell_type": "code",
   "execution_count": 35,
   "id": "02c18583-579a-419c-99f2-c21ad8e067d3",
   "metadata": {},
   "outputs": [
    {
     "ename": "NameError",
     "evalue": "name 'l1' is not defined",
     "output_type": "error",
     "traceback": [
      "\u001b[1;31m---------------------------------------------------------------------------\u001b[0m",
      "\u001b[1;31mNameError\u001b[0m                                 Traceback (most recent call last)",
      "Cell \u001b[1;32mIn[35], line 1\u001b[0m\n\u001b[1;32m----> 1\u001b[0m l1\n",
      "\u001b[1;31mNameError\u001b[0m: name 'l1' is not defined"
     ]
    }
   ],
   "source": [
    "l1"
   ]
  },
  {
   "cell_type": "code",
   "execution_count": 36,
   "id": "a73277d6-2892-4ad5-9baa-e7d2f70ce8e6",
   "metadata": {},
   "outputs": [
    {
     "data": {
      "text/plain": [
       "[100, 10, 20, 30, 40, -50, 20]"
      ]
     },
     "execution_count": 36,
     "metadata": {},
     "output_type": "execute_result"
    }
   ],
   "source": [
    "l"
   ]
  },
  {
   "cell_type": "code",
   "execution_count": 37,
   "id": "2e13e359-3aed-4f2a-b3a9-968656a131ff",
   "metadata": {},
   "outputs": [],
   "source": [
    "l2 = []"
   ]
  },
  {
   "cell_type": "code",
   "execution_count": 38,
   "id": "d1706a0c-9dad-4d4e-9786-95c1ffcf22ab",
   "metadata": {},
   "outputs": [],
   "source": [
    "l2.append(9)\n",
    "l2.append('nit')\n",
    "l2.append(True)\n",
    "l2.append(1+2j)\n",
    "l2.append(9.3)"
   ]
  },
  {
   "cell_type": "code",
   "execution_count": 39,
   "id": "0cc5d1f3-08e9-4c62-b12d-53050d99867d",
   "metadata": {},
   "outputs": [
    {
     "data": {
      "text/plain": [
       "[9, 'nit', True, (1+2j), 9.3]"
      ]
     },
     "execution_count": 39,
     "metadata": {},
     "output_type": "execute_result"
    }
   ],
   "source": [
    "l2"
   ]
  },
  {
   "cell_type": "code",
   "execution_count": 40,
   "id": "13fec934-3c83-417b-a66a-b7b9ba3e0996",
   "metadata": {},
   "outputs": [
    {
     "name": "stdout",
     "output_type": "stream",
     "text": [
      "[100, 10, 20, 30, 40, -50, 20]\n",
      "[9, 'nit', True, (1+2j), 9.3]\n"
     ]
    }
   ],
   "source": [
    "print(l)\n",
    "print(l2)"
   ]
  },
  {
   "cell_type": "code",
   "execution_count": 41,
   "id": "02f8f4eb-1adf-44e1-aa89-1b7766607ba8",
   "metadata": {},
   "outputs": [
    {
     "data": {
      "text/plain": [
       "[100, 10, 20, 30, 40, -50, 20]"
      ]
     },
     "execution_count": 41,
     "metadata": {},
     "output_type": "execute_result"
    }
   ],
   "source": [
    "l"
   ]
  },
  {
   "cell_type": "code",
   "execution_count": 42,
   "id": "573a4fa9-7a01-4f93-81ee-470b3c542ed5",
   "metadata": {},
   "outputs": [
    {
     "data": {
      "text/plain": [
       "0"
      ]
     },
     "execution_count": 42,
     "metadata": {},
     "output_type": "execute_result"
    }
   ],
   "source": [
    "l.index(100)"
   ]
  },
  {
   "cell_type": "code",
   "execution_count": 44,
   "id": "90c4f988-6f00-4d17-8a82-305c2a54ce56",
   "metadata": {},
   "outputs": [
    {
     "data": {
      "text/plain": [
       "2"
      ]
     },
     "execution_count": 44,
     "metadata": {},
     "output_type": "execute_result"
    }
   ],
   "source": [
    "l.index(20)"
   ]
  },
  {
   "cell_type": "code",
   "execution_count": 45,
   "id": "a469f8c2-4811-4c7b-8fb1-8cdf06170ad8",
   "metadata": {},
   "outputs": [
    {
     "data": {
      "text/plain": [
       "[9, 'nit', True, (1+2j), 9.3]"
      ]
     },
     "execution_count": 45,
     "metadata": {},
     "output_type": "execute_result"
    }
   ],
   "source": [
    "l2"
   ]
  },
  {
   "cell_type": "code",
   "execution_count": 46,
   "id": "b4db48c7-ed98-49be-91c2-14ed2e61fee9",
   "metadata": {},
   "outputs": [
    {
     "data": {
      "text/plain": [
       "'nit'"
      ]
     },
     "execution_count": 46,
     "metadata": {},
     "output_type": "execute_result"
    }
   ],
   "source": [
    "l2[1]"
   ]
  },
  {
   "cell_type": "code",
   "execution_count": 48,
   "id": "964ec0a6-a840-4e84-9f62-e8a2178465bf",
   "metadata": {},
   "outputs": [
    {
     "data": {
      "text/plain": [
       "'n'"
      ]
     },
     "execution_count": 48,
     "metadata": {},
     "output_type": "execute_result"
    }
   ],
   "source": [
    "l2[1][0]"
   ]
  },
  {
   "cell_type": "code",
   "execution_count": 49,
   "id": "3b98768e-5c6a-45a6-97df-8baef81357dc",
   "metadata": {},
   "outputs": [
    {
     "data": {
      "text/plain": [
       "[9, 'nit', True, (1+2j), 9.3]"
      ]
     },
     "execution_count": 49,
     "metadata": {},
     "output_type": "execute_result"
    }
   ],
   "source": [
    "l2"
   ]
  },
  {
   "cell_type": "code",
   "execution_count": 50,
   "id": "c51c31a5-9b57-47d9-920a-3023e8d3cb49",
   "metadata": {},
   "outputs": [
    {
     "name": "stdout",
     "output_type": "stream",
     "text": [
      "nit\n"
     ]
    }
   ],
   "source": [
    "print(l2[1])"
   ]
  },
  {
   "cell_type": "code",
   "execution_count": 51,
   "id": "ef069007-de92-4d53-a743-faf1f146063c",
   "metadata": {},
   "outputs": [
    {
     "name": "stdout",
     "output_type": "stream",
     "text": [
      "n\n",
      "i\n",
      "t\n"
     ]
    }
   ],
   "source": [
    "print(l2[1][0])\n",
    "print(l2[1][1])\n",
    "print(l2[1][2])"
   ]
  },
  {
   "cell_type": "code",
   "execution_count": 52,
   "id": "d7911918-6e11-47df-a3ca-324a853d5a28",
   "metadata": {},
   "outputs": [
    {
     "data": {
      "text/plain": [
       "[100, 10, 20, 30, 40, -50, 20]"
      ]
     },
     "execution_count": 52,
     "metadata": {},
     "output_type": "execute_result"
    }
   ],
   "source": [
    "l"
   ]
  },
  {
   "cell_type": "code",
   "execution_count": 53,
   "id": "31b33b2d-d0ad-4b3a-b5fa-768ddda72c2a",
   "metadata": {},
   "outputs": [
    {
     "data": {
      "text/plain": [
       "[100, 10, 20, 30, 40, -50, 20]"
      ]
     },
     "execution_count": 53,
     "metadata": {},
     "output_type": "execute_result"
    }
   ],
   "source": [
    "l[:] "
   ]
  },
  {
   "cell_type": "code",
   "execution_count": 54,
   "id": "b22775eb-4b6b-413a-9dcf-ba6822872145",
   "metadata": {},
   "outputs": [
    {
     "data": {
      "text/plain": [
       "[30, 40, -50, 20]"
      ]
     },
     "execution_count": 54,
     "metadata": {},
     "output_type": "execute_result"
    }
   ],
   "source": [
    "l[3:] "
   ]
  },
  {
   "cell_type": "code",
   "execution_count": 55,
   "id": "87968041-7632-4729-bf1e-7897b91d3f7e",
   "metadata": {},
   "outputs": [
    {
     "data": {
      "text/plain": [
       "[100, 10, 20, 30, 40, -50, 20]"
      ]
     },
     "execution_count": 55,
     "metadata": {},
     "output_type": "execute_result"
    }
   ],
   "source": [
    "l"
   ]
  },
  {
   "cell_type": "code",
   "execution_count": 56,
   "id": "c5494ce3-052b-425d-a19f-cc5104934d61",
   "metadata": {},
   "outputs": [
    {
     "data": {
      "text/plain": [
       "[100, 10, 20, 30, 40, -50, 20]"
      ]
     },
     "execution_count": 56,
     "metadata": {},
     "output_type": "execute_result"
    }
   ],
   "source": [
    "l[:10] "
   ]
  },
  {
   "cell_type": "code",
   "execution_count": 57,
   "id": "67fb0958-5487-4724-8ed3-0106214b3eb7",
   "metadata": {},
   "outputs": [
    {
     "data": {
      "text/plain": [
       "[100, 10, 20, 30, 40, -50, 20]"
      ]
     },
     "execution_count": 57,
     "metadata": {},
     "output_type": "execute_result"
    }
   ],
   "source": [
    "l"
   ]
  },
  {
   "cell_type": "code",
   "execution_count": 58,
   "id": "63af359d-d38a-4f2b-8647-875f9e772977",
   "metadata": {},
   "outputs": [
    {
     "data": {
      "text/plain": [
       "[100, 30, 20]"
      ]
     },
     "execution_count": 58,
     "metadata": {},
     "output_type": "execute_result"
    }
   ],
   "source": [
    "l[0:8:3] "
   ]
  },
  {
   "cell_type": "code",
   "execution_count": 59,
   "id": "48816ef9-fb41-4066-9e05-3078551e4175",
   "metadata": {},
   "outputs": [
    {
     "data": {
      "text/plain": [
       "[9, 'nit', True, (1+2j), 9.3]"
      ]
     },
     "execution_count": 59,
     "metadata": {},
     "output_type": "execute_result"
    }
   ],
   "source": [
    "l2"
   ]
  },
  {
   "cell_type": "code",
   "execution_count": 60,
   "id": "2d86e6d9-001c-4b7e-9851-4b5359afd73f",
   "metadata": {},
   "outputs": [
    {
     "data": {
      "text/plain": [
       "['nit', (1+2j)]"
      ]
     },
     "execution_count": 60,
     "metadata": {},
     "output_type": "execute_result"
    }
   ],
   "source": [
    "l2[1:6:2]"
   ]
  },
  {
   "cell_type": "code",
   "execution_count": 61,
   "id": "7a6ad0fc-50f9-4ca7-9ee4-e8555caa09cd",
   "metadata": {},
   "outputs": [
    {
     "data": {
      "text/plain": [
       "[100, 10, 20, 30, 40, -50, 20]"
      ]
     },
     "execution_count": 61,
     "metadata": {},
     "output_type": "execute_result"
    }
   ],
   "source": [
    "l"
   ]
  },
  {
   "cell_type": "code",
   "execution_count": 62,
   "id": "7aeab353-569a-4987-b335-695b85d71c9f",
   "metadata": {},
   "outputs": [],
   "source": [
    "l.insert(15,2)"
   ]
  },
  {
   "cell_type": "code",
   "execution_count": 63,
   "id": "d17cb9c7-7ac1-461a-9975-48665507a103",
   "metadata": {},
   "outputs": [
    {
     "data": {
      "text/plain": [
       "[100, 10, 20, 30, 40, -50, 20, 2]"
      ]
     },
     "execution_count": 63,
     "metadata": {},
     "output_type": "execute_result"
    }
   ],
   "source": [
    "l"
   ]
  },
  {
   "cell_type": "code",
   "execution_count": 64,
   "id": "337f13c3-7fc1-4c3d-8c38-157fdcb9a86f",
   "metadata": {},
   "outputs": [],
   "source": [
    "l.insert(2, 15) # 2nd index position & 15 is called value "
   ]
  },
  {
   "cell_type": "code",
   "execution_count": 65,
   "id": "6d70929f-13e2-44bc-bbc5-5301ffbd2124",
   "metadata": {},
   "outputs": [
    {
     "data": {
      "text/plain": [
       "[100, 10, 15, 20, 30, 40, -50, 20, 2]"
      ]
     },
     "execution_count": 65,
     "metadata": {},
     "output_type": "execute_result"
    }
   ],
   "source": [
    "l"
   ]
  },
  {
   "cell_type": "code",
   "execution_count": 66,
   "id": "25a3ea6c-462d-4896-a0f4-a7321654dd48",
   "metadata": {},
   "outputs": [
    {
     "data": {
      "text/plain": [
       "2"
      ]
     },
     "execution_count": 66,
     "metadata": {},
     "output_type": "execute_result"
    }
   ],
   "source": [
    "l.pop()"
   ]
  },
  {
   "cell_type": "code",
   "execution_count": 68,
   "id": "a9387629-fbb9-4ddf-9548-09cf53053e42",
   "metadata": {},
   "outputs": [
    {
     "data": {
      "text/plain": [
       "[100, 10, 15, 20, 30, 40, -50, 20]"
      ]
     },
     "execution_count": 68,
     "metadata": {},
     "output_type": "execute_result"
    }
   ],
   "source": [
    "l"
   ]
  },
  {
   "cell_type": "code",
   "execution_count": 69,
   "id": "1dc49806-107f-482a-b3b2-ced6a849d31a",
   "metadata": {},
   "outputs": [
    {
     "data": {
      "text/plain": [
       "20"
      ]
     },
     "execution_count": 69,
     "metadata": {},
     "output_type": "execute_result"
    }
   ],
   "source": [
    "l.pop()"
   ]
  },
  {
   "cell_type": "code",
   "execution_count": 70,
   "id": "69d83b2a-9e36-4e32-b315-43f3a4806b42",
   "metadata": {},
   "outputs": [
    {
     "data": {
      "text/plain": [
       "[100, 10, 15, 20, 30, 40, -50]"
      ]
     },
     "execution_count": 70,
     "metadata": {},
     "output_type": "execute_result"
    }
   ],
   "source": [
    "l"
   ]
  },
  {
   "cell_type": "code",
   "execution_count": 71,
   "id": "cc8af3ac-a9af-4486-86ba-2b64c6d223ee",
   "metadata": {},
   "outputs": [
    {
     "data": {
      "text/plain": [
       "-50"
      ]
     },
     "execution_count": 71,
     "metadata": {},
     "output_type": "execute_result"
    }
   ],
   "source": [
    "l.pop()"
   ]
  },
  {
   "cell_type": "code",
   "execution_count": 72,
   "id": "b955f00c-ea27-4c18-bd6e-b7b54fc70c29",
   "metadata": {},
   "outputs": [
    {
     "data": {
      "text/plain": [
       "[100, 10, 15, 20, 30, 40]"
      ]
     },
     "execution_count": 72,
     "metadata": {},
     "output_type": "execute_result"
    }
   ],
   "source": [
    "l"
   ]
  },
  {
   "cell_type": "code",
   "execution_count": 73,
   "id": "397fc45f-a366-4c81-bdbd-127e80cb17b0",
   "metadata": {},
   "outputs": [
    {
     "data": {
      "text/plain": [
       "[9, 'nit', True, (1+2j), 9.3]"
      ]
     },
     "execution_count": 73,
     "metadata": {},
     "output_type": "execute_result"
    }
   ],
   "source": [
    "l2"
   ]
  },
  {
   "cell_type": "code",
   "execution_count": 74,
   "id": "2765d3cb-c981-4890-bfe2-5ab6ff61b34c",
   "metadata": {},
   "outputs": [
    {
     "data": {
      "text/plain": [
       "(1+2j)"
      ]
     },
     "execution_count": 74,
     "metadata": {},
     "output_type": "execute_result"
    }
   ],
   "source": [
    "l2.pop(3)"
   ]
  },
  {
   "cell_type": "code",
   "execution_count": 75,
   "id": "a8efd11d-680e-4d47-ab82-34dac079fda2",
   "metadata": {},
   "outputs": [
    {
     "data": {
      "text/plain": [
       "[9, 'nit', True, 9.3]"
      ]
     },
     "execution_count": 75,
     "metadata": {},
     "output_type": "execute_result"
    }
   ],
   "source": [
    "l2"
   ]
  },
  {
   "cell_type": "code",
   "execution_count": 76,
   "id": "ec4ece49-cf5d-4832-a531-84961bacfcac",
   "metadata": {},
   "outputs": [
    {
     "data": {
      "text/plain": [
       "[9, 'nit', True, 9.3]"
      ]
     },
     "execution_count": 76,
     "metadata": {},
     "output_type": "execute_result"
    }
   ],
   "source": [
    "l2"
   ]
  },
  {
   "cell_type": "code",
   "execution_count": 77,
   "id": "e8540d7c-3a7c-4463-a444-b49877764ad3",
   "metadata": {},
   "outputs": [],
   "source": [
    "l2.remove('nit')"
   ]
  },
  {
   "cell_type": "code",
   "execution_count": 78,
   "id": "1602da63-f59b-4d7e-b997-2c0d743bcb4c",
   "metadata": {},
   "outputs": [
    {
     "data": {
      "text/plain": [
       "[9, True, 9.3]"
      ]
     },
     "execution_count": 78,
     "metadata": {},
     "output_type": "execute_result"
    }
   ],
   "source": [
    "l2"
   ]
  },
  {
   "cell_type": "code",
   "execution_count": null,
   "id": "f8af4ad1-6f2b-435b-bf50-2cdd64131491",
   "metadata": {},
   "outputs": [],
   "source": []
  }
 ],
 "metadata": {
  "kernelspec": {
   "display_name": "Python 3 (ipykernel)",
   "language": "python",
   "name": "python3"
  },
  "language_info": {
   "codemirror_mode": {
    "name": "ipython",
    "version": 3
   },
   "file_extension": ".py",
   "mimetype": "text/x-python",
   "name": "python",
   "nbconvert_exporter": "python",
   "pygments_lexer": "ipython3",
   "version": "3.12.7"
  }
 },
 "nbformat": 4,
 "nbformat_minor": 5
}
