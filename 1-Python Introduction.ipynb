{
 "cells": [
  {
   "cell_type": "markdown",
   "id": "59cefaab-d841-4666-bea5-5a4130692451",
   "metadata": {},
   "source": [
    "# 1- PYTHON INTRODUCTION"
   ]
  },
  {
   "cell_type": "markdown",
   "id": "a04719fe-37ec-4db1-8c35-0c7456068876",
   "metadata": {},
   "source": [
    " * I hope everybody install Anconda software which i share to you guys right\n",
    "* Just wanted to know how many of know any programming language\n",
    "* If you dont know any programming language then you are the best person to learn PYTHON \n",
    "* python is very easy language\n",
    "* what is python? Ans - python is highly recommanded programming language & object oriented language\n",
    "* Father of python - Guido van Rosam\n",
    "* Python came from fun tv show called ''complete monty python's flying circus'' - broadcasted in BBC channel \n",
    "* Python borrowed all concept from c,c++,java,unix (so python is everything) thats why python very very powerfull tool\n",
    "* Python developed in NRI - (Netherland) & lot of people say that python is new language\n",
    "* Java released on 1995. python was released on 1989 officialy released on (feb 20th 1991)\n",
    "*  It has a large and comprehensive standard library.\n"
   ]
  },
  {
   "cell_type": "markdown",
   "id": "ae1fb2ad-5046-46b4-863f-71064e133a23",
   "metadata": {},
   "source": [
    "# ============"
   ]
  },
  {
   "cell_type": "markdown",
   "id": "fd07d1fa-07c3-4707-883c-a5e1f439b657",
   "metadata": {},
   "source": [
    "* Now python is very popular based on software industry requirment because everybody wants to write very less code/concile code\n",
    "* Current market trend is - Machine learing, Artificial intelligence, data science & Iot(Internet of things)\n",
    "* which companies are used python - google,nasa,uber,netfliz,reddit,facebook/meta, everywhere python used everywhere\n",
    "* python code can understand everybody & python is dynamic programming language\n",
    "* In python everything done by PVM (python virtual machine)\n",
    "* you can access python in any platform independent- windows, linux, mac one code can run in all the 4 platform & no need to  write separate programe for every platform. Once you write code you can run in platform\n",
    "* Python is dynamically programming language (not required to declared data types)\n",
    "* Python is freeware and open source. Moving from one platform to other platform without changeing any code\n",
    "* Python contains rich libray - numpy,pandas so python is the best application for datascience\n",
    "* which scenario python can't be used - ( python can not perform in mobile application like android )\n",
    "* Flavours of python - cpython(C programming),jpython(java programming),Iron python(c#.net),Ruby python(Ruby based application  programme),Anaconda python(Bigdata,datascience)\n",
    "* Python 1.0 introduce in jan 1994 -- Noorganization is working now\n",
    "* Python 2.0 introduce in oct 2000 -- Noorganization is working now\n",
    "* Python 3.0 introduce in Dec 2008, 2016, 2017,---- latest version - 3.6, 3.6, 3.7, 3.8, 3.9, 3.10"
   ]
  },
  {
   "cell_type": "markdown",
   "id": "b89b6065-191a-4183-90c8-6390c53fbd71",
   "metadata": {},
   "source": [
    "# ============"
   ]
  },
  {
   "cell_type": "markdown",
   "id": "be0ed3c4-9109-41e2-90da-6c1c07cdac61",
   "metadata": {},
   "source": [
    "## 2- Getting started with Python Language \n",
    "### Python 3.x\n",
    "#### Version Release Date  --->\n",
    "3.13 2022-25-08\n",
    "3.10 2021-10-04\n",
    "3.9 2020-10-05\n",
    "3.8 2020-04-29 \n",
    "3.7 2018-06-27\n",
    "3.6 2016-12-23\n",
    "3.5 2015-09-13\n",
    "3.4 2014-03-17\n",
    "3.3 2012-09-29\n",
    "3.2 2011-02-20\n",
    "3.1 2009-06-26\n",
    "3.0 2008-12-03\n",
    "### Python 2.x\n",
    "##### Version Release Date\n",
    "2.7 2010-07-03\n",
    "2.6 2008-10-02\n",
    "2.5 2006-09-19\n",
    "2.4 2004-11-30\n",
    "2.3 2003-07-29\n",
    "2.2 2001-12-21\n",
    "2.1 2001-04-15\n",
    "2.0 2000-10-16"
   ]
  },
  {
   "cell_type": "markdown",
   "id": "3181fb3a-2ab9-45db-9244-46bb702c5f4d",
   "metadata": {},
   "source": [
    "Python Became the Best Programming Language & fastest programming language.\n",
    "Python is used in Machine Learning, Data Science, Big Data, Web Development, Scripting, llm , generati ai everywhere \n",
    "we will learn pyton from start to end || basic to expert.\n",
    "if you are not done programm then that is totally fine. \n",
    "I will explain from starting from scratch.\n",
    "python software - pycharm || vs code || jupyter || spyder"
   ]
  },
  {
   "cell_type": "markdown",
   "id": "860d5ea0-6b16-42a8-9cf2-3fba936afdc9",
   "metadata": {},
   "source": [
    "# ============"
   ]
  },
  {
   "cell_type": "markdown",
   "id": "5c98b6e3-c870-4322-b24d-68d8d1a89c0c",
   "metadata": {},
   "source": [
    "IDE (INTEGRATED DEVELOPMENT ENVIRONMENT) =>\n",
    "- using IDE - one can write code, run the code, debug the code\n",
    "- IDE takes care of interpreting the Python code, running python scripts, building executables, and debugging the applications.\n",
    "- An IDE enables programmers to combine the different aspects of writing a computer program. \n",
    "- if you wnated to be python developer only then you need to install (IDE -- PYCHARM)"
   ]
  },
  {
   "cell_type": "markdown",
   "id": "6a9b26b1-0c7c-4391-8455-9e38186ae8c7",
   "metadata": {},
   "source": [
    "# ============"
   ]
  },
  {
   "cell_type": "markdown",
   "id": "034beb97-6fce-4173-84a3-c8979c768880",
   "metadata": {},
   "source": [
    "PYTHON INTERPRETER -->\n",
    "What is Python interpreter?\n",
    "A python interpreter is a computer program that converts each high-level program statement into machine code. An interpreter translates the command that you write out into code that the computer can understand\n",
    "\n",
    "PYTHON INTERPRETER EXAMPLE --> \n",
    "You write your Python code in a text file with a name like hello.py . How does that code Run? There is program installed on your computer named \"python3\" or \"python\", and its job is looking at and running your Python code. This type of program is called an \"interpreter\"."
   ]
  },
  {
   "cell_type": "markdown",
   "id": "1e167d9d-6f0d-4580-b635-334181723515",
   "metadata": {},
   "source": [
    "# ============"
   ]
  },
  {
   "cell_type": "markdown",
   "id": "df5f20de-49c5-417a-9d19-5b444512ef83",
   "metadata": {},
   "source": [
    "Both compilers and interpreters are used to convert a program written in a high-level language into machine code understood by computers.\n",
    "Interpreter -->\n",
    "- Translates program one statement at a time\n",
    "- Interpreter run every line item \n",
    "- Execut the single, partial line of code\n",
    "- Easy for programming \n",
    "\n",
    "Compiler -->\n",
    "- Scans the entire program and translates it as a whole into machine code.\n",
    "- No execution if an error occurs\n",
    "- you can not fix the bug (debug) line by line "
   ]
  },
  {
   "cell_type": "markdown",
   "id": "9ce6072f-acd1-4fd5-bc87-ed3dc15ea984",
   "metadata": {},
   "source": [
    "# ============"
   ]
  },
  {
   "cell_type": "markdown",
   "id": "8f29826d-a99d-496f-a98d-0c5b95af727d",
   "metadata": {},
   "source": [
    "How to create python environment variable \n",
    "- 1- cmd - python ( if it not works)\n",
    "- 2- find the location where the python is installed -- >\n",
    "         C:\\Users\\A3MAX SOFTWARE TECH\\AppData\\Local\\Programs\\Python\\Python39\\Scripts \n",
    "- 3- system -- env - environment variable screen will pop up \n",
    "- 4- select on system variable - click on path - create New \n",
    "- 5- C:\\Users\\kdata\\AppData\\Local\\Programs\\Python\\Python311\n",
    "- 6- env - sys variable - path - new - C:\\Users\\kdata\\AppData\\Local\\Programs\\Python\\Python311\\Scripts\n",
    "- 7- cmd - type python -version\n",
    "- 8- successfully python install in cmd      "
   ]
  },
  {
   "cell_type": "code",
   "execution_count": null,
   "id": "76855ba9-9fc4-46d6-ba2c-5e97dd8fe80c",
   "metadata": {},
   "outputs": [],
   "source": []
  },
  {
   "cell_type": "code",
   "execution_count": null,
   "id": "f00ae9cd-0f06-4c24-88fd-c047c68b1e94",
   "metadata": {},
   "outputs": [],
   "source": []
  }
 ],
 "metadata": {
  "kernelspec": {
   "display_name": "Python 3 (ipykernel)",
   "language": "python",
   "name": "python3"
  },
  "language_info": {
   "codemirror_mode": {
    "name": "ipython",
    "version": 3
   },
   "file_extension": ".py",
   "mimetype": "text/x-python",
   "name": "python",
   "nbconvert_exporter": "python",
   "pygments_lexer": "ipython3",
   "version": "3.11.7"
  }
 },
 "nbformat": 4,
 "nbformat_minor": 5
}
